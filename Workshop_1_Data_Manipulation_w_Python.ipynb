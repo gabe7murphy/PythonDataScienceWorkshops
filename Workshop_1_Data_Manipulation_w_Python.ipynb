{
  "nbformat": 4,
  "nbformat_minor": 0,
  "metadata": {
    "colab": {
      "name": "Workshop 1: Data Manipulation w/ Python.ipynb",
      "provenance": [],
      "collapsed_sections": [],
      "toc_visible": true,
      "include_colab_link": true
    },
    "kernelspec": {
      "name": "python3",
      "display_name": "Python 3"
    }
  },
  "cells": [
    {
      "cell_type": "markdown",
      "metadata": {
        "id": "view-in-github",
        "colab_type": "text"
      },
      "source": [
        "<a href=\"https://colab.research.google.com/github/gabe7murphy/PythonDataScienceWorkshops/blob/main/Workshop_1_Data_Manipulation_w_Python.ipynb\" target=\"_parent\"><img src=\"https://colab.research.google.com/assets/colab-badge.svg\" alt=\"Open In Colab\"/></a>"
      ]
    },
    {
      "cell_type": "markdown",
      "metadata": {
        "id": "TZRmyiDopWvN"
      },
      "source": [
        "# Colab Introduction\n",
        "\n",
        "\n",
        "> Here is a quick crash course on how code cells work in google colab\n",
        "\n",
        "\n",
        "\n"
      ]
    },
    {
      "cell_type": "code",
      "metadata": {
        "id": "FzH9sS8ApqVY",
        "colab": {
          "base_uri": "https://localhost:8080/"
        },
        "outputId": "bbbce3dc-c192-4ae8-8da1-4cdb0cfd073b"
      },
      "source": [
        "#This is a code chunk\n",
        "\n",
        "5 + 5 "
      ],
      "execution_count": null,
      "outputs": [
        {
          "output_type": "execute_result",
          "data": {
            "text/plain": [
              "10"
            ]
          },
          "metadata": {
            "tags": []
          },
          "execution_count": 1
        }
      ]
    },
    {
      "cell_type": "code",
      "metadata": {
        "id": "nvkiMaxAp9dD",
        "colab": {
          "base_uri": "https://localhost:8080/"
        },
        "outputId": "4c9a7ae2-5c35-46ba-d2d0-88052615ba14"
      },
      "source": [
        "#We can type multiple commands in one chunk\n",
        "\n",
        "\n",
        "6 + 7\n",
        "\n",
        "8 + 4\n",
        "\n",
        "3 + 2"
      ],
      "execution_count": null,
      "outputs": [
        {
          "output_type": "execute_result",
          "data": {
            "text/plain": [
              "5"
            ]
          },
          "metadata": {
            "tags": []
          },
          "execution_count": 2
        }
      ]
    },
    {
      "cell_type": "code",
      "metadata": {
        "id": "mHqfyoxcp1yv",
        "colab": {
          "base_uri": "https://localhost:8080/"
        },
        "outputId": "e57da4e7-2738-4f2f-a5d2-dd70f4cdad69"
      },
      "source": [
        "print(6 + 6)"
      ],
      "execution_count": null,
      "outputs": [
        {
          "output_type": "stream",
          "text": [
            "12\n"
          ],
          "name": "stdout"
        }
      ]
    },
    {
      "cell_type": "code",
      "metadata": {
        "id": "EuY6kLUDp5GD",
        "colab": {
          "base_uri": "https://localhost:8080/"
        },
        "outputId": "c748d924-a605-46ff-ba0b-25cbeb184872"
      },
      "source": [
        "#the first printing method will only print the most recent command in the chunk\n",
        "\n",
        "6 + 7\n",
        "\n",
        "8 + 4\n",
        "\n",
        "3 + 2\n"
      ],
      "execution_count": null,
      "outputs": [
        {
          "output_type": "execute_result",
          "data": {
            "text/plain": [
              "5"
            ]
          },
          "metadata": {
            "tags": []
          },
          "execution_count": 5
        }
      ]
    },
    {
      "cell_type": "code",
      "metadata": {
        "id": "kSUasQNCqKvD",
        "colab": {
          "base_uri": "https://localhost:8080/"
        },
        "outputId": "f9a0696b-b3f8-4c1c-bba2-658994d7de40"
      },
      "source": [
        "#The print() method will print all commands in the chunk \n",
        "\n",
        "\n",
        "\n",
        "print(6 + 7)\n",
        "\n",
        "print(8 + 4)\n",
        "\n",
        "print(3 + 2)\n"
      ],
      "execution_count": null,
      "outputs": [
        {
          "output_type": "stream",
          "text": [
            "13\n",
            "12\n",
            "5\n"
          ],
          "name": "stdout"
        }
      ]
    },
    {
      "cell_type": "markdown",
      "metadata": {
        "id": "R97v23Nj9drH"
      },
      "source": [
        "\n",
        "\n",
        "```\n",
        "# This is formatted as code\n",
        "```\n",
        "\n",
        "# Importing Packages\n",
        "\n",
        "\n",
        "> In order to use pandas, we must import it into our environment\n",
        "The common syntax for importing any package is:\n",
        "\t\t\n",
        "\timport my_package as alias_name\n",
        "\n",
        "The alias_name refers to the short hand used when calling functions\n",
        "alias_name.function()\n",
        "\n",
        "\n"
      ]
    },
    {
      "cell_type": "code",
      "metadata": {
        "id": "R5zbVoXf9ySg"
      },
      "source": [
        "#import pandas package\n",
        "\n",
        "import pandas as pd"
      ],
      "execution_count": null,
      "outputs": []
    },
    {
      "cell_type": "markdown",
      "metadata": {
        "id": "xctKWFpuwQ-v"
      },
      "source": [
        "# Importing Data\n",
        "\n",
        "\n",
        " > In Python, our dataset comes in the file format \".csv\". In order to read this into the environment we must first tell google colab to upload it from our file system with the following code: \n",
        "\n",
        "\n",
        "\n",
        "```\n",
        "from google.colab import files\n",
        "uploaded = files.upload()\n",
        "\n",
        "```\n",
        "\n",
        "\n",
        "# Reading Data\n",
        "\n",
        "> Now that we have the data in our environment, now we can use pandas to read it into our cells using the following function:\n",
        "\n",
        "```\n",
        "\n",
        "df = pd.read_csv('filepath.csv')\n",
        "\n",
        "```\n",
        "\n",
        "\n",
        "\n"
      ]
    },
    {
      "cell_type": "code",
      "metadata": {
        "id": "jXpx77sw92Eu",
        "colab": {
          "resources": {
            "http://localhost:8080/nbextensions/google.colab/files.js": {
              "data": "Ly8gQ29weXJpZ2h0IDIwMTcgR29vZ2xlIExMQwovLwovLyBMaWNlbnNlZCB1bmRlciB0aGUgQXBhY2hlIExpY2Vuc2UsIFZlcnNpb24gMi4wICh0aGUgIkxpY2Vuc2UiKTsKLy8geW91IG1heSBub3QgdXNlIHRoaXMgZmlsZSBleGNlcHQgaW4gY29tcGxpYW5jZSB3aXRoIHRoZSBMaWNlbnNlLgovLyBZb3UgbWF5IG9idGFpbiBhIGNvcHkgb2YgdGhlIExpY2Vuc2UgYXQKLy8KLy8gICAgICBodHRwOi8vd3d3LmFwYWNoZS5vcmcvbGljZW5zZXMvTElDRU5TRS0yLjAKLy8KLy8gVW5sZXNzIHJlcXVpcmVkIGJ5IGFwcGxpY2FibGUgbGF3IG9yIGFncmVlZCB0byBpbiB3cml0aW5nLCBzb2Z0d2FyZQovLyBkaXN0cmlidXRlZCB1bmRlciB0aGUgTGljZW5zZSBpcyBkaXN0cmlidXRlZCBvbiBhbiAiQVMgSVMiIEJBU0lTLAovLyBXSVRIT1VUIFdBUlJBTlRJRVMgT1IgQ09ORElUSU9OUyBPRiBBTlkgS0lORCwgZWl0aGVyIGV4cHJlc3Mgb3IgaW1wbGllZC4KLy8gU2VlIHRoZSBMaWNlbnNlIGZvciB0aGUgc3BlY2lmaWMgbGFuZ3VhZ2UgZ292ZXJuaW5nIHBlcm1pc3Npb25zIGFuZAovLyBsaW1pdGF0aW9ucyB1bmRlciB0aGUgTGljZW5zZS4KCi8qKgogKiBAZmlsZW92ZXJ2aWV3IEhlbHBlcnMgZm9yIGdvb2dsZS5jb2xhYiBQeXRob24gbW9kdWxlLgogKi8KKGZ1bmN0aW9uKHNjb3BlKSB7CmZ1bmN0aW9uIHNwYW4odGV4dCwgc3R5bGVBdHRyaWJ1dGVzID0ge30pIHsKICBjb25zdCBlbGVtZW50ID0gZG9jdW1lbnQuY3JlYXRlRWxlbWVudCgnc3BhbicpOwogIGVsZW1lbnQudGV4dENvbnRlbnQgPSB0ZXh0OwogIGZvciAoY29uc3Qga2V5IG9mIE9iamVjdC5rZXlzKHN0eWxlQXR0cmlidXRlcykpIHsKICAgIGVsZW1lbnQuc3R5bGVba2V5XSA9IHN0eWxlQXR0cmlidXRlc1trZXldOwogIH0KICByZXR1cm4gZWxlbWVudDsKfQoKLy8gTWF4IG51bWJlciBvZiBieXRlcyB3aGljaCB3aWxsIGJlIHVwbG9hZGVkIGF0IGEgdGltZS4KY29uc3QgTUFYX1BBWUxPQURfU0laRSA9IDEwMCAqIDEwMjQ7CgpmdW5jdGlvbiBfdXBsb2FkRmlsZXMoaW5wdXRJZCwgb3V0cHV0SWQpIHsKICBjb25zdCBzdGVwcyA9IHVwbG9hZEZpbGVzU3RlcChpbnB1dElkLCBvdXRwdXRJZCk7CiAgY29uc3Qgb3V0cHV0RWxlbWVudCA9IGRvY3VtZW50LmdldEVsZW1lbnRCeUlkKG91dHB1dElkKTsKICAvLyBDYWNoZSBzdGVwcyBvbiB0aGUgb3V0cHV0RWxlbWVudCB0byBtYWtlIGl0IGF2YWlsYWJsZSBmb3IgdGhlIG5leHQgY2FsbAogIC8vIHRvIHVwbG9hZEZpbGVzQ29udGludWUgZnJvbSBQeXRob24uCiAgb3V0cHV0RWxlbWVudC5zdGVwcyA9IHN0ZXBzOwoKICByZXR1cm4gX3VwbG9hZEZpbGVzQ29udGludWUob3V0cHV0SWQpOwp9CgovLyBUaGlzIGlzIHJvdWdobHkgYW4gYXN5bmMgZ2VuZXJhdG9yIChub3Qgc3VwcG9ydGVkIGluIHRoZSBicm93c2VyIHlldCksCi8vIHdoZXJlIHRoZXJlIGFyZSBtdWx0aXBsZSBhc3luY2hyb25vdXMgc3RlcHMgYW5kIHRoZSBQeXRob24gc2lkZSBpcyBnb2luZwovLyB0byBwb2xsIGZvciBjb21wbGV0aW9uIG9mIGVhY2ggc3RlcC4KLy8gVGhpcyB1c2VzIGEgUHJvbWlzZSB0byBibG9jayB0aGUgcHl0aG9uIHNpZGUgb24gY29tcGxldGlvbiBvZiBlYWNoIHN0ZXAsCi8vIHRoZW4gcGFzc2VzIHRoZSByZXN1bHQgb2YgdGhlIHByZXZpb3VzIHN0ZXAgYXMgdGhlIGlucHV0IHRvIHRoZSBuZXh0IHN0ZXAuCmZ1bmN0aW9uIF91cGxvYWRGaWxlc0NvbnRpbnVlKG91dHB1dElkKSB7CiAgY29uc3Qgb3V0cHV0RWxlbWVudCA9IGRvY3VtZW50LmdldEVsZW1lbnRCeUlkKG91dHB1dElkKTsKICBjb25zdCBzdGVwcyA9IG91dHB1dEVsZW1lbnQuc3RlcHM7CgogIGNvbnN0IG5leHQgPSBzdGVwcy5uZXh0KG91dHB1dEVsZW1lbnQubGFzdFByb21pc2VWYWx1ZSk7CiAgcmV0dXJuIFByb21pc2UucmVzb2x2ZShuZXh0LnZhbHVlLnByb21pc2UpLnRoZW4oKHZhbHVlKSA9PiB7CiAgICAvLyBDYWNoZSB0aGUgbGFzdCBwcm9taXNlIHZhbHVlIHRvIG1ha2UgaXQgYXZhaWxhYmxlIHRvIHRoZSBuZXh0CiAgICAvLyBzdGVwIG9mIHRoZSBnZW5lcmF0b3IuCiAgICBvdXRwdXRFbGVtZW50Lmxhc3RQcm9taXNlVmFsdWUgPSB2YWx1ZTsKICAgIHJldHVybiBuZXh0LnZhbHVlLnJlc3BvbnNlOwogIH0pOwp9CgovKioKICogR2VuZXJhdG9yIGZ1bmN0aW9uIHdoaWNoIGlzIGNhbGxlZCBiZXR3ZWVuIGVhY2ggYXN5bmMgc3RlcCBvZiB0aGUgdXBsb2FkCiAqIHByb2Nlc3MuCiAqIEBwYXJhbSB7c3RyaW5nfSBpbnB1dElkIEVsZW1lbnQgSUQgb2YgdGhlIGlucHV0IGZpbGUgcGlja2VyIGVsZW1lbnQuCiAqIEBwYXJhbSB7c3RyaW5nfSBvdXRwdXRJZCBFbGVtZW50IElEIG9mIHRoZSBvdXRwdXQgZGlzcGxheS4KICogQHJldHVybiB7IUl0ZXJhYmxlPCFPYmplY3Q+fSBJdGVyYWJsZSBvZiBuZXh0IHN0ZXBzLgogKi8KZnVuY3Rpb24qIHVwbG9hZEZpbGVzU3RlcChpbnB1dElkLCBvdXRwdXRJZCkgewogIGNvbnN0IGlucHV0RWxlbWVudCA9IGRvY3VtZW50LmdldEVsZW1lbnRCeUlkKGlucHV0SWQpOwogIGlucHV0RWxlbWVudC5kaXNhYmxlZCA9IGZhbHNlOwoKICBjb25zdCBvdXRwdXRFbGVtZW50ID0gZG9jdW1lbnQuZ2V0RWxlbWVudEJ5SWQob3V0cHV0SWQpOwogIG91dHB1dEVsZW1lbnQuaW5uZXJIVE1MID0gJyc7CgogIGNvbnN0IHBpY2tlZFByb21pc2UgPSBuZXcgUHJvbWlzZSgocmVzb2x2ZSkgPT4gewogICAgaW5wdXRFbGVtZW50LmFkZEV2ZW50TGlzdGVuZXIoJ2NoYW5nZScsIChlKSA9PiB7CiAgICAgIHJlc29sdmUoZS50YXJnZXQuZmlsZXMpOwogICAgfSk7CiAgfSk7CgogIGNvbnN0IGNhbmNlbCA9IGRvY3VtZW50LmNyZWF0ZUVsZW1lbnQoJ2J1dHRvbicpOwogIGlucHV0RWxlbWVudC5wYXJlbnRFbGVtZW50LmFwcGVuZENoaWxkKGNhbmNlbCk7CiAgY2FuY2VsLnRleHRDb250ZW50ID0gJ0NhbmNlbCB1cGxvYWQnOwogIGNvbnN0IGNhbmNlbFByb21pc2UgPSBuZXcgUHJvbWlzZSgocmVzb2x2ZSkgPT4gewogICAgY2FuY2VsLm9uY2xpY2sgPSAoKSA9PiB7CiAgICAgIHJlc29sdmUobnVsbCk7CiAgICB9OwogIH0pOwoKICAvLyBXYWl0IGZvciB0aGUgdXNlciB0byBwaWNrIHRoZSBmaWxlcy4KICBjb25zdCBmaWxlcyA9IHlpZWxkIHsKICAgIHByb21pc2U6IFByb21pc2UucmFjZShbcGlja2VkUHJvbWlzZSwgY2FuY2VsUHJvbWlzZV0pLAogICAgcmVzcG9uc2U6IHsKICAgICAgYWN0aW9uOiAnc3RhcnRpbmcnLAogICAgfQogIH07CgogIGNhbmNlbC5yZW1vdmUoKTsKCiAgLy8gRGlzYWJsZSB0aGUgaW5wdXQgZWxlbWVudCBzaW5jZSBmdXJ0aGVyIHBpY2tzIGFyZSBub3QgYWxsb3dlZC4KICBpbnB1dEVsZW1lbnQuZGlzYWJsZWQgPSB0cnVlOwoKICBpZiAoIWZpbGVzKSB7CiAgICByZXR1cm4gewogICAgICByZXNwb25zZTogewogICAgICAgIGFjdGlvbjogJ2NvbXBsZXRlJywKICAgICAgfQogICAgfTsKICB9CgogIGZvciAoY29uc3QgZmlsZSBvZiBmaWxlcykgewogICAgY29uc3QgbGkgPSBkb2N1bWVudC5jcmVhdGVFbGVtZW50KCdsaScpOwogICAgbGkuYXBwZW5kKHNwYW4oZmlsZS5uYW1lLCB7Zm9udFdlaWdodDogJ2JvbGQnfSkpOwogICAgbGkuYXBwZW5kKHNwYW4oCiAgICAgICAgYCgke2ZpbGUudHlwZSB8fCAnbi9hJ30pIC0gJHtmaWxlLnNpemV9IGJ5dGVzLCBgICsKICAgICAgICBgbGFzdCBtb2RpZmllZDogJHsKICAgICAgICAgICAgZmlsZS5sYXN0TW9kaWZpZWREYXRlID8gZmlsZS5sYXN0TW9kaWZpZWREYXRlLnRvTG9jYWxlRGF0ZVN0cmluZygpIDoKICAgICAgICAgICAgICAgICAgICAgICAgICAgICAgICAgICAgJ24vYSd9IC0gYCkpOwogICAgY29uc3QgcGVyY2VudCA9IHNwYW4oJzAlIGRvbmUnKTsKICAgIGxpLmFwcGVuZENoaWxkKHBlcmNlbnQpOwoKICAgIG91dHB1dEVsZW1lbnQuYXBwZW5kQ2hpbGQobGkpOwoKICAgIGNvbnN0IGZpbGVEYXRhUHJvbWlzZSA9IG5ldyBQcm9taXNlKChyZXNvbHZlKSA9PiB7CiAgICAgIGNvbnN0IHJlYWRlciA9IG5ldyBGaWxlUmVhZGVyKCk7CiAgICAgIHJlYWRlci5vbmxvYWQgPSAoZSkgPT4gewogICAgICAgIHJlc29sdmUoZS50YXJnZXQucmVzdWx0KTsKICAgICAgfTsKICAgICAgcmVhZGVyLnJlYWRBc0FycmF5QnVmZmVyKGZpbGUpOwogICAgfSk7CiAgICAvLyBXYWl0IGZvciB0aGUgZGF0YSB0byBiZSByZWFkeS4KICAgIGxldCBmaWxlRGF0YSA9IHlpZWxkIHsKICAgICAgcHJvbWlzZTogZmlsZURhdGFQcm9taXNlLAogICAgICByZXNwb25zZTogewogICAgICAgIGFjdGlvbjogJ2NvbnRpbnVlJywKICAgICAgfQogICAgfTsKCiAgICAvLyBVc2UgYSBjaHVua2VkIHNlbmRpbmcgdG8gYXZvaWQgbWVzc2FnZSBzaXplIGxpbWl0cy4gU2VlIGIvNjIxMTU2NjAuCiAgICBsZXQgcG9zaXRpb24gPSAwOwogICAgd2hpbGUgKHBvc2l0aW9uIDwgZmlsZURhdGEuYnl0ZUxlbmd0aCkgewogICAgICBjb25zdCBsZW5ndGggPSBNYXRoLm1pbihmaWxlRGF0YS5ieXRlTGVuZ3RoIC0gcG9zaXRpb24sIE1BWF9QQVlMT0FEX1NJWkUpOwogICAgICBjb25zdCBjaHVuayA9IG5ldyBVaW50OEFycmF5KGZpbGVEYXRhLCBwb3NpdGlvbiwgbGVuZ3RoKTsKICAgICAgcG9zaXRpb24gKz0gbGVuZ3RoOwoKICAgICAgY29uc3QgYmFzZTY0ID0gYnRvYShTdHJpbmcuZnJvbUNoYXJDb2RlLmFwcGx5KG51bGwsIGNodW5rKSk7CiAgICAgIHlpZWxkIHsKICAgICAgICByZXNwb25zZTogewogICAgICAgICAgYWN0aW9uOiAnYXBwZW5kJywKICAgICAgICAgIGZpbGU6IGZpbGUubmFtZSwKICAgICAgICAgIGRhdGE6IGJhc2U2NCwKICAgICAgICB9LAogICAgICB9OwogICAgICBwZXJjZW50LnRleHRDb250ZW50ID0KICAgICAgICAgIGAke01hdGgucm91bmQoKHBvc2l0aW9uIC8gZmlsZURhdGEuYnl0ZUxlbmd0aCkgKiAxMDApfSUgZG9uZWA7CiAgICB9CiAgfQoKICAvLyBBbGwgZG9uZS4KICB5aWVsZCB7CiAgICByZXNwb25zZTogewogICAgICBhY3Rpb246ICdjb21wbGV0ZScsCiAgICB9CiAgfTsKfQoKc2NvcGUuZ29vZ2xlID0gc2NvcGUuZ29vZ2xlIHx8IHt9OwpzY29wZS5nb29nbGUuY29sYWIgPSBzY29wZS5nb29nbGUuY29sYWIgfHwge307CnNjb3BlLmdvb2dsZS5jb2xhYi5fZmlsZXMgPSB7CiAgX3VwbG9hZEZpbGVzLAogIF91cGxvYWRGaWxlc0NvbnRpbnVlLAp9Owp9KShzZWxmKTsK",
              "ok": true,
              "headers": [
                [
                  "content-type",
                  "application/javascript"
                ]
              ],
              "status": 200,
              "status_text": ""
            }
          },
          "base_uri": "https://localhost:8080/",
          "height": 72
        },
        "outputId": "79b069c5-380e-45e2-cbdd-4969253565c5"
      },
      "source": [
        "from google.colab import files\n",
        "uploaded = files.upload()"
      ],
      "execution_count": null,
      "outputs": [
        {
          "output_type": "display_data",
          "data": {
            "text/html": [
              "\n",
              "     <input type=\"file\" id=\"files-c1804e5e-fe0f-4f24-816e-3be099b8c1d5\" name=\"files[]\" multiple disabled\n",
              "        style=\"border:none\" />\n",
              "     <output id=\"result-c1804e5e-fe0f-4f24-816e-3be099b8c1d5\">\n",
              "      Upload widget is only available when the cell has been executed in the\n",
              "      current browser session. Please rerun this cell to enable.\n",
              "      </output>\n",
              "      <script src=\"/nbextensions/google.colab/files.js\"></script> "
            ],
            "text/plain": [
              "<IPython.core.display.HTML object>"
            ]
          },
          "metadata": {
            "tags": []
          }
        },
        {
          "output_type": "stream",
          "text": [
            "Saving starbucks_drinkMenu_expanded.csv to starbucks_drinkMenu_expanded.csv\n"
          ],
          "name": "stdout"
        }
      ]
    },
    {
      "cell_type": "code",
      "metadata": {
        "id": "sm2H2ir9x7jY"
      },
      "source": [
        "#read in coffee data with read_csv()\n",
        "\n",
        "df = pd.read_csv('/content/starbucks_drinkMenu_expanded.csv')"
      ],
      "execution_count": null,
      "outputs": []
    },
    {
      "cell_type": "code",
      "metadata": {
        "id": "0jxgS0GuWOA0"
      },
      "source": [
        ""
      ],
      "execution_count": null,
      "outputs": []
    },
    {
      "cell_type": "code",
      "metadata": {
        "id": "ZHZ4gIvlyD4D",
        "colab": {
          "base_uri": "https://localhost:8080/",
          "height": 640
        },
        "outputId": "14205db8-7081-4859-8b1e-13ef0b728d5c"
      },
      "source": [
        "#print dataframe\n",
        "df"
      ],
      "execution_count": null,
      "outputs": [
        {
          "output_type": "execute_result",
          "data": {
            "text/html": [
              "<div>\n",
              "<style scoped>\n",
              "    .dataframe tbody tr th:only-of-type {\n",
              "        vertical-align: middle;\n",
              "    }\n",
              "\n",
              "    .dataframe tbody tr th {\n",
              "        vertical-align: top;\n",
              "    }\n",
              "\n",
              "    .dataframe thead th {\n",
              "        text-align: right;\n",
              "    }\n",
              "</style>\n",
              "<table border=\"1\" class=\"dataframe\">\n",
              "  <thead>\n",
              "    <tr style=\"text-align: right;\">\n",
              "      <th></th>\n",
              "      <th>Beverage_category</th>\n",
              "      <th>Beverage</th>\n",
              "      <th>Beverage_prep</th>\n",
              "      <th>Calories</th>\n",
              "      <th>Total Fat (g)</th>\n",
              "      <th>Trans Fat (g)</th>\n",
              "      <th>Saturated Fat (g)</th>\n",
              "      <th>Sodium (mg)</th>\n",
              "      <th>Total Carbohydrates (g)</th>\n",
              "      <th>Cholesterol (mg)</th>\n",
              "      <th>Dietary Fibre (g)</th>\n",
              "      <th>Sugars (g)</th>\n",
              "      <th>Protein (g)</th>\n",
              "      <th>Vitamin A (% DV)</th>\n",
              "      <th>Vitamin C (% DV)</th>\n",
              "      <th>Calcium (% DV)</th>\n",
              "      <th>Iron (% DV)</th>\n",
              "      <th>Caffeine (mg)</th>\n",
              "    </tr>\n",
              "  </thead>\n",
              "  <tbody>\n",
              "    <tr>\n",
              "      <th>0</th>\n",
              "      <td>Coffee</td>\n",
              "      <td>Brewed Coffee</td>\n",
              "      <td>Short</td>\n",
              "      <td>3</td>\n",
              "      <td>0.1</td>\n",
              "      <td>0.0</td>\n",
              "      <td>0.0</td>\n",
              "      <td>0</td>\n",
              "      <td>5</td>\n",
              "      <td>0</td>\n",
              "      <td>0</td>\n",
              "      <td>0</td>\n",
              "      <td>0.3</td>\n",
              "      <td>0%</td>\n",
              "      <td>0%</td>\n",
              "      <td>0%</td>\n",
              "      <td>0%</td>\n",
              "      <td>175</td>\n",
              "    </tr>\n",
              "    <tr>\n",
              "      <th>1</th>\n",
              "      <td>Coffee</td>\n",
              "      <td>Brewed Coffee</td>\n",
              "      <td>Tall</td>\n",
              "      <td>4</td>\n",
              "      <td>0.1</td>\n",
              "      <td>0.0</td>\n",
              "      <td>0.0</td>\n",
              "      <td>0</td>\n",
              "      <td>10</td>\n",
              "      <td>0</td>\n",
              "      <td>0</td>\n",
              "      <td>0</td>\n",
              "      <td>0.5</td>\n",
              "      <td>0%</td>\n",
              "      <td>0%</td>\n",
              "      <td>0%</td>\n",
              "      <td>0%</td>\n",
              "      <td>260</td>\n",
              "    </tr>\n",
              "    <tr>\n",
              "      <th>2</th>\n",
              "      <td>Coffee</td>\n",
              "      <td>Brewed Coffee</td>\n",
              "      <td>Grande</td>\n",
              "      <td>5</td>\n",
              "      <td>0.1</td>\n",
              "      <td>0.0</td>\n",
              "      <td>0.0</td>\n",
              "      <td>0</td>\n",
              "      <td>10</td>\n",
              "      <td>0</td>\n",
              "      <td>0</td>\n",
              "      <td>0</td>\n",
              "      <td>1.0</td>\n",
              "      <td>0%</td>\n",
              "      <td>0%</td>\n",
              "      <td>0%</td>\n",
              "      <td>0%</td>\n",
              "      <td>330</td>\n",
              "    </tr>\n",
              "    <tr>\n",
              "      <th>3</th>\n",
              "      <td>Coffee</td>\n",
              "      <td>Brewed Coffee</td>\n",
              "      <td>Venti</td>\n",
              "      <td>5</td>\n",
              "      <td>0.1</td>\n",
              "      <td>0.0</td>\n",
              "      <td>0.0</td>\n",
              "      <td>0</td>\n",
              "      <td>10</td>\n",
              "      <td>0</td>\n",
              "      <td>0</td>\n",
              "      <td>0</td>\n",
              "      <td>1.0</td>\n",
              "      <td>0%</td>\n",
              "      <td>0%</td>\n",
              "      <td>2%</td>\n",
              "      <td>0%</td>\n",
              "      <td>410</td>\n",
              "    </tr>\n",
              "    <tr>\n",
              "      <th>4</th>\n",
              "      <td>Classic Espresso Drinks</td>\n",
              "      <td>Caffè Latte</td>\n",
              "      <td>Short Nonfat Milk</td>\n",
              "      <td>70</td>\n",
              "      <td>0.1</td>\n",
              "      <td>0.1</td>\n",
              "      <td>0.0</td>\n",
              "      <td>5</td>\n",
              "      <td>75</td>\n",
              "      <td>10</td>\n",
              "      <td>0</td>\n",
              "      <td>9</td>\n",
              "      <td>6.0</td>\n",
              "      <td>10%</td>\n",
              "      <td>0%</td>\n",
              "      <td>20%</td>\n",
              "      <td>0%</td>\n",
              "      <td>75</td>\n",
              "    </tr>\n",
              "    <tr>\n",
              "      <th>...</th>\n",
              "      <td>...</td>\n",
              "      <td>...</td>\n",
              "      <td>...</td>\n",
              "      <td>...</td>\n",
              "      <td>...</td>\n",
              "      <td>...</td>\n",
              "      <td>...</td>\n",
              "      <td>...</td>\n",
              "      <td>...</td>\n",
              "      <td>...</td>\n",
              "      <td>...</td>\n",
              "      <td>...</td>\n",
              "      <td>...</td>\n",
              "      <td>...</td>\n",
              "      <td>...</td>\n",
              "      <td>...</td>\n",
              "      <td>...</td>\n",
              "      <td>...</td>\n",
              "    </tr>\n",
              "    <tr>\n",
              "      <th>237</th>\n",
              "      <td>Frappuccino® Blended Crème</td>\n",
              "      <td>Strawberries &amp; Crème (Without Whipped Cream)</td>\n",
              "      <td>Soymilk</td>\n",
              "      <td>320</td>\n",
              "      <td>3 2</td>\n",
              "      <td>0.4</td>\n",
              "      <td>0.0</td>\n",
              "      <td>0</td>\n",
              "      <td>250</td>\n",
              "      <td>67</td>\n",
              "      <td>1</td>\n",
              "      <td>64</td>\n",
              "      <td>5.0</td>\n",
              "      <td>6%</td>\n",
              "      <td>8%</td>\n",
              "      <td>20%</td>\n",
              "      <td>10%</td>\n",
              "      <td>0</td>\n",
              "    </tr>\n",
              "    <tr>\n",
              "      <th>238</th>\n",
              "      <td>Frappuccino® Blended Crème</td>\n",
              "      <td>Vanilla Bean (Without Whipped Cream)</td>\n",
              "      <td>Tall Nonfat Milk</td>\n",
              "      <td>170</td>\n",
              "      <td>0.1</td>\n",
              "      <td>0.1</td>\n",
              "      <td>0.0</td>\n",
              "      <td>0</td>\n",
              "      <td>160</td>\n",
              "      <td>39</td>\n",
              "      <td>0</td>\n",
              "      <td>38</td>\n",
              "      <td>4.0</td>\n",
              "      <td>6%</td>\n",
              "      <td>0%</td>\n",
              "      <td>10%</td>\n",
              "      <td>0%</td>\n",
              "      <td>0</td>\n",
              "    </tr>\n",
              "    <tr>\n",
              "      <th>239</th>\n",
              "      <td>Frappuccino® Blended Crème</td>\n",
              "      <td>Vanilla Bean (Without Whipped Cream)</td>\n",
              "      <td>Whole Milk</td>\n",
              "      <td>200</td>\n",
              "      <td>3.5</td>\n",
              "      <td>2.0</td>\n",
              "      <td>0.1</td>\n",
              "      <td>10</td>\n",
              "      <td>160</td>\n",
              "      <td>39</td>\n",
              "      <td>0</td>\n",
              "      <td>38</td>\n",
              "      <td>3.0</td>\n",
              "      <td>6%</td>\n",
              "      <td>0%</td>\n",
              "      <td>10%</td>\n",
              "      <td>0%</td>\n",
              "      <td>0</td>\n",
              "    </tr>\n",
              "    <tr>\n",
              "      <th>240</th>\n",
              "      <td>Frappuccino® Blended Crème</td>\n",
              "      <td>Vanilla Bean (Without Whipped Cream)</td>\n",
              "      <td>Soymilk</td>\n",
              "      <td>180</td>\n",
              "      <td>1.5</td>\n",
              "      <td>0.2</td>\n",
              "      <td>0.0</td>\n",
              "      <td>0</td>\n",
              "      <td>160</td>\n",
              "      <td>37</td>\n",
              "      <td>1</td>\n",
              "      <td>35</td>\n",
              "      <td>3.0</td>\n",
              "      <td>4%</td>\n",
              "      <td>0%</td>\n",
              "      <td>10%</td>\n",
              "      <td>6%</td>\n",
              "      <td>0</td>\n",
              "    </tr>\n",
              "    <tr>\n",
              "      <th>241</th>\n",
              "      <td>Frappuccino® Blended Crème</td>\n",
              "      <td>Vanilla Bean (Without Whipped Cream)</td>\n",
              "      <td>Grande Nonfat Milk</td>\n",
              "      <td>240</td>\n",
              "      <td>0.1</td>\n",
              "      <td>0.1</td>\n",
              "      <td>0.0</td>\n",
              "      <td>5</td>\n",
              "      <td>230</td>\n",
              "      <td>56</td>\n",
              "      <td>0</td>\n",
              "      <td>55</td>\n",
              "      <td>5.0</td>\n",
              "      <td>8%</td>\n",
              "      <td>0%</td>\n",
              "      <td>15%</td>\n",
              "      <td>0%</td>\n",
              "      <td>0</td>\n",
              "    </tr>\n",
              "  </tbody>\n",
              "</table>\n",
              "<p>242 rows × 18 columns</p>\n",
              "</div>"
            ],
            "text/plain": [
              "              Beverage_category  ... Caffeine (mg)\n",
              "0                        Coffee  ...           175\n",
              "1                        Coffee  ...           260\n",
              "2                        Coffee  ...           330\n",
              "3                        Coffee  ...           410\n",
              "4       Classic Espresso Drinks  ...            75\n",
              "..                          ...  ...           ...\n",
              "237  Frappuccino® Blended Crème  ...             0\n",
              "238  Frappuccino® Blended Crème  ...             0\n",
              "239  Frappuccino® Blended Crème  ...             0\n",
              "240  Frappuccino® Blended Crème  ...             0\n",
              "241  Frappuccino® Blended Crème  ...             0\n",
              "\n",
              "[242 rows x 18 columns]"
            ]
          },
          "metadata": {
            "tags": []
          },
          "execution_count": 11
        }
      ]
    },
    {
      "cell_type": "markdown",
      "metadata": {
        "id": "7epJLP-9DCSQ"
      },
      "source": [
        "# Selecting a Column\n",
        "\n",
        "> In order to access columns in our dataframe, we can treat our dataframe object as an array we can index into:\n",
        "\n",
        "\n",
        "```\n",
        "# Return column of a dataframe\n",
        "\n",
        "df['column_name']\n",
        "```\n",
        ">With this method, we can pass in the exact string name of our column in order to index it from our dataframe. With this method, we can guarantee that a column will be returned for any unique column name.\n",
        "\n",
        "\n",
        "\n",
        "\n",
        "> A second way of accessing columns in a dataframe, is to treat the dataframe as if it has properties. The properties of the dataset can be accessed by chaining functions together as repeated objects:\n",
        "\n",
        "\n",
        "```\n",
        "# Return column of a dataframe\n",
        "\n",
        "df.column_name\n",
        "```\n",
        ">While this method is an alternative to the previous method, it can't always guarantee a column, due to its inability to deal with column names with spaces.\n",
        "\n",
        "Ex.\n",
        "\n",
        "\n",
        "\n",
        "```\n",
        "# This code returns an error\n",
        "\n",
        "\"column name\"\n",
        "\n",
        "df.column name\n",
        "\n",
        "\n",
        "```\n",
        ">Since \"column name\" has a space between it, we cannot use the '.' operator to retrieve the column.\n",
        "\n",
        "\n",
        "\n",
        "\n"
      ]
    },
    {
      "cell_type": "code",
      "metadata": {
        "id": "oNFsuDd5-MQA"
      },
      "source": [
        ""
      ],
      "execution_count": null,
      "outputs": []
    },
    {
      "cell_type": "code",
      "metadata": {
        "id": "4-10QZnDC-6M",
        "colab": {
          "base_uri": "https://localhost:8080/"
        },
        "outputId": "a2f173eb-ebb3-4776-e76d-4a429c1035f0"
      },
      "source": [
        "#Return the \"Beverage_category\" column from the data using the string indexing method\n",
        "\n",
        "df['Beverage_category']"
      ],
      "execution_count": null,
      "outputs": [
        {
          "output_type": "execute_result",
          "data": {
            "text/plain": [
              "0                          Coffee\n",
              "1                          Coffee\n",
              "2                          Coffee\n",
              "3                          Coffee\n",
              "4         Classic Espresso Drinks\n",
              "                  ...            \n",
              "237    Frappuccino® Blended Crème\n",
              "238    Frappuccino® Blended Crème\n",
              "239    Frappuccino® Blended Crème\n",
              "240    Frappuccino® Blended Crème\n",
              "241    Frappuccino® Blended Crème\n",
              "Name: Beverage_category, Length: 242, dtype: object"
            ]
          },
          "metadata": {
            "tags": []
          },
          "execution_count": 12
        }
      ]
    },
    {
      "cell_type": "code",
      "metadata": {
        "id": "y9CqAGFvF16H",
        "colab": {
          "base_uri": "https://localhost:8080/"
        },
        "outputId": "af343a4d-28da-4668-dac5-cea7daa0ec87"
      },
      "source": [
        "#Return the \"Calories\" column from the data using the '.' properties method\n",
        "df.Calories\n"
      ],
      "execution_count": null,
      "outputs": [
        {
          "output_type": "execute_result",
          "data": {
            "text/plain": [
              "0        3\n",
              "1        4\n",
              "2        5\n",
              "3        5\n",
              "4       70\n",
              "      ... \n",
              "237    320\n",
              "238    170\n",
              "239    200\n",
              "240    180\n",
              "241    240\n",
              "Name: Calories, Length: 242, dtype: int64"
            ]
          },
          "metadata": {
            "tags": []
          },
          "execution_count": 13
        }
      ]
    },
    {
      "cell_type": "code",
      "metadata": {
        "id": "Fx53aHQ1GZKU"
      },
      "source": [
        "#Try and return the \"Cholesterol (mg)\" column from the data using the '.' properties method. What happens?\n",
        "\n",
        "#df.coffee_data.Cholesterol (mg)"
      ],
      "execution_count": null,
      "outputs": []
    },
    {
      "cell_type": "code",
      "metadata": {
        "id": "0_x-AzA-GmuO",
        "colab": {
          "base_uri": "https://localhost:8080/"
        },
        "outputId": "cfa5a9c5-63e0-4928-f72b-8dcc98d58a96"
      },
      "source": [
        "#Retrieve the \"Cholesterol (mg)\" column from the data using an alternate method to avoid an error.\n",
        "\n",
        "df['Cholesterol (mg)']"
      ],
      "execution_count": null,
      "outputs": [
        {
          "output_type": "execute_result",
          "data": {
            "text/plain": [
              "0       0\n",
              "1       0\n",
              "2       0\n",
              "3       0\n",
              "4      10\n",
              "       ..\n",
              "237    67\n",
              "238    39\n",
              "239    39\n",
              "240    37\n",
              "241    56\n",
              "Name: Cholesterol (mg), Length: 242, dtype: int64"
            ]
          },
          "metadata": {
            "tags": []
          },
          "execution_count": 17
        }
      ]
    },
    {
      "cell_type": "markdown",
      "metadata": {
        "id": "SeiLanPty_wE"
      },
      "source": [
        "# Inspecting Our Data\n",
        "\n",
        "\n",
        "> A great place to start when working on any data manipulation task is to inspect various features of your dataframe. Examples of the characteristics I discover are:\n",
        "\n",
        "\n",
        "*   first five rows\n",
        "*   last five rows\n",
        "*   shape of the data\n",
        "*   column properties\n",
        "*   summary statistics\n",
        "\n",
        "\n",
        "\n",
        "\n"
      ]
    },
    {
      "cell_type": "markdown",
      "metadata": {
        "id": "Wqu9kZwK0_hl"
      },
      "source": [
        "# Head and Tail\n",
        "\n",
        "> Checking the first and last five rows of the data can be done with the following pandas functions:\n",
        "\n",
        "```\n",
        "# Returns the first five rows\n",
        "df.head()\n",
        "\n",
        "\n",
        "#Returns the last five rows\n",
        "df.tail()\n",
        "```\n",
        "\n",
        "> This is a good way to get a sense of the variability of columns in your dataset, as well as how many rows of data you have."
      ]
    },
    {
      "cell_type": "code",
      "metadata": {
        "id": "8Xbrkk031m5H",
        "colab": {
          "base_uri": "https://localhost:8080/",
          "height": 323
        },
        "outputId": "83e5803b-af59-4118-fa19-3bd45e73846a"
      },
      "source": [
        "#Return the first five rows with head()\n",
        "\n",
        "df.head()"
      ],
      "execution_count": null,
      "outputs": [
        {
          "output_type": "execute_result",
          "data": {
            "text/html": [
              "<div>\n",
              "<style scoped>\n",
              "    .dataframe tbody tr th:only-of-type {\n",
              "        vertical-align: middle;\n",
              "    }\n",
              "\n",
              "    .dataframe tbody tr th {\n",
              "        vertical-align: top;\n",
              "    }\n",
              "\n",
              "    .dataframe thead th {\n",
              "        text-align: right;\n",
              "    }\n",
              "</style>\n",
              "<table border=\"1\" class=\"dataframe\">\n",
              "  <thead>\n",
              "    <tr style=\"text-align: right;\">\n",
              "      <th></th>\n",
              "      <th>Beverage_category</th>\n",
              "      <th>Beverage</th>\n",
              "      <th>Beverage_prep</th>\n",
              "      <th>Calories</th>\n",
              "      <th>Total Fat (g)</th>\n",
              "      <th>Trans Fat (g)</th>\n",
              "      <th>Saturated Fat (g)</th>\n",
              "      <th>Sodium (mg)</th>\n",
              "      <th>Total Carbohydrates (g)</th>\n",
              "      <th>Cholesterol (mg)</th>\n",
              "      <th>Dietary Fibre (g)</th>\n",
              "      <th>Sugars (g)</th>\n",
              "      <th>Protein (g)</th>\n",
              "      <th>Vitamin A (% DV)</th>\n",
              "      <th>Vitamin C (% DV)</th>\n",
              "      <th>Calcium (% DV)</th>\n",
              "      <th>Iron (% DV)</th>\n",
              "      <th>Caffeine (mg)</th>\n",
              "    </tr>\n",
              "  </thead>\n",
              "  <tbody>\n",
              "    <tr>\n",
              "      <th>0</th>\n",
              "      <td>Coffee</td>\n",
              "      <td>Brewed Coffee</td>\n",
              "      <td>Short</td>\n",
              "      <td>3</td>\n",
              "      <td>0.1</td>\n",
              "      <td>0.0</td>\n",
              "      <td>0.0</td>\n",
              "      <td>0</td>\n",
              "      <td>5</td>\n",
              "      <td>0</td>\n",
              "      <td>0</td>\n",
              "      <td>0</td>\n",
              "      <td>0.3</td>\n",
              "      <td>0%</td>\n",
              "      <td>0%</td>\n",
              "      <td>0%</td>\n",
              "      <td>0%</td>\n",
              "      <td>175</td>\n",
              "    </tr>\n",
              "    <tr>\n",
              "      <th>1</th>\n",
              "      <td>Coffee</td>\n",
              "      <td>Brewed Coffee</td>\n",
              "      <td>Tall</td>\n",
              "      <td>4</td>\n",
              "      <td>0.1</td>\n",
              "      <td>0.0</td>\n",
              "      <td>0.0</td>\n",
              "      <td>0</td>\n",
              "      <td>10</td>\n",
              "      <td>0</td>\n",
              "      <td>0</td>\n",
              "      <td>0</td>\n",
              "      <td>0.5</td>\n",
              "      <td>0%</td>\n",
              "      <td>0%</td>\n",
              "      <td>0%</td>\n",
              "      <td>0%</td>\n",
              "      <td>260</td>\n",
              "    </tr>\n",
              "    <tr>\n",
              "      <th>2</th>\n",
              "      <td>Coffee</td>\n",
              "      <td>Brewed Coffee</td>\n",
              "      <td>Grande</td>\n",
              "      <td>5</td>\n",
              "      <td>0.1</td>\n",
              "      <td>0.0</td>\n",
              "      <td>0.0</td>\n",
              "      <td>0</td>\n",
              "      <td>10</td>\n",
              "      <td>0</td>\n",
              "      <td>0</td>\n",
              "      <td>0</td>\n",
              "      <td>1.0</td>\n",
              "      <td>0%</td>\n",
              "      <td>0%</td>\n",
              "      <td>0%</td>\n",
              "      <td>0%</td>\n",
              "      <td>330</td>\n",
              "    </tr>\n",
              "    <tr>\n",
              "      <th>3</th>\n",
              "      <td>Coffee</td>\n",
              "      <td>Brewed Coffee</td>\n",
              "      <td>Venti</td>\n",
              "      <td>5</td>\n",
              "      <td>0.1</td>\n",
              "      <td>0.0</td>\n",
              "      <td>0.0</td>\n",
              "      <td>0</td>\n",
              "      <td>10</td>\n",
              "      <td>0</td>\n",
              "      <td>0</td>\n",
              "      <td>0</td>\n",
              "      <td>1.0</td>\n",
              "      <td>0%</td>\n",
              "      <td>0%</td>\n",
              "      <td>2%</td>\n",
              "      <td>0%</td>\n",
              "      <td>410</td>\n",
              "    </tr>\n",
              "    <tr>\n",
              "      <th>4</th>\n",
              "      <td>Classic Espresso Drinks</td>\n",
              "      <td>Caffè Latte</td>\n",
              "      <td>Short Nonfat Milk</td>\n",
              "      <td>70</td>\n",
              "      <td>0.1</td>\n",
              "      <td>0.1</td>\n",
              "      <td>0.0</td>\n",
              "      <td>5</td>\n",
              "      <td>75</td>\n",
              "      <td>10</td>\n",
              "      <td>0</td>\n",
              "      <td>9</td>\n",
              "      <td>6.0</td>\n",
              "      <td>10%</td>\n",
              "      <td>0%</td>\n",
              "      <td>20%</td>\n",
              "      <td>0%</td>\n",
              "      <td>75</td>\n",
              "    </tr>\n",
              "  </tbody>\n",
              "</table>\n",
              "</div>"
            ],
            "text/plain": [
              "         Beverage_category       Beverage  ... Iron (% DV)   Caffeine (mg)\n",
              "0                   Coffee  Brewed Coffee  ...           0%            175\n",
              "1                   Coffee  Brewed Coffee  ...           0%            260\n",
              "2                   Coffee  Brewed Coffee  ...           0%            330\n",
              "3                   Coffee  Brewed Coffee  ...           0%            410\n",
              "4  Classic Espresso Drinks    Caffè Latte  ...           0%             75\n",
              "\n",
              "[5 rows x 18 columns]"
            ]
          },
          "metadata": {
            "tags": []
          },
          "execution_count": 18
        }
      ]
    },
    {
      "cell_type": "code",
      "metadata": {
        "id": "MVrxBmCB2Eam",
        "colab": {
          "base_uri": "https://localhost:8080/",
          "height": 408
        },
        "outputId": "2783b621-e97c-45e1-84ce-a67bd767757a"
      },
      "source": [
        "#Return the last five rows with tail()\n",
        "\n",
        "df.tail()\n"
      ],
      "execution_count": null,
      "outputs": [
        {
          "output_type": "execute_result",
          "data": {
            "text/html": [
              "<div>\n",
              "<style scoped>\n",
              "    .dataframe tbody tr th:only-of-type {\n",
              "        vertical-align: middle;\n",
              "    }\n",
              "\n",
              "    .dataframe tbody tr th {\n",
              "        vertical-align: top;\n",
              "    }\n",
              "\n",
              "    .dataframe thead th {\n",
              "        text-align: right;\n",
              "    }\n",
              "</style>\n",
              "<table border=\"1\" class=\"dataframe\">\n",
              "  <thead>\n",
              "    <tr style=\"text-align: right;\">\n",
              "      <th></th>\n",
              "      <th>Beverage_category</th>\n",
              "      <th>Beverage</th>\n",
              "      <th>Beverage_prep</th>\n",
              "      <th>Calories</th>\n",
              "      <th>Total Fat (g)</th>\n",
              "      <th>Trans Fat (g)</th>\n",
              "      <th>Saturated Fat (g)</th>\n",
              "      <th>Sodium (mg)</th>\n",
              "      <th>Total Carbohydrates (g)</th>\n",
              "      <th>Cholesterol (mg)</th>\n",
              "      <th>Dietary Fibre (g)</th>\n",
              "      <th>Sugars (g)</th>\n",
              "      <th>Protein (g)</th>\n",
              "      <th>Vitamin A (% DV)</th>\n",
              "      <th>Vitamin C (% DV)</th>\n",
              "      <th>Calcium (% DV)</th>\n",
              "      <th>Iron (% DV)</th>\n",
              "      <th>Caffeine (mg)</th>\n",
              "    </tr>\n",
              "  </thead>\n",
              "  <tbody>\n",
              "    <tr>\n",
              "      <th>237</th>\n",
              "      <td>Frappuccino® Blended Crème</td>\n",
              "      <td>Strawberries &amp; Crème (Without Whipped Cream)</td>\n",
              "      <td>Soymilk</td>\n",
              "      <td>320</td>\n",
              "      <td>3 2</td>\n",
              "      <td>0.4</td>\n",
              "      <td>0.0</td>\n",
              "      <td>0</td>\n",
              "      <td>250</td>\n",
              "      <td>67</td>\n",
              "      <td>1</td>\n",
              "      <td>64</td>\n",
              "      <td>5.0</td>\n",
              "      <td>6%</td>\n",
              "      <td>8%</td>\n",
              "      <td>20%</td>\n",
              "      <td>10%</td>\n",
              "      <td>0</td>\n",
              "    </tr>\n",
              "    <tr>\n",
              "      <th>238</th>\n",
              "      <td>Frappuccino® Blended Crème</td>\n",
              "      <td>Vanilla Bean (Without Whipped Cream)</td>\n",
              "      <td>Tall Nonfat Milk</td>\n",
              "      <td>170</td>\n",
              "      <td>0.1</td>\n",
              "      <td>0.1</td>\n",
              "      <td>0.0</td>\n",
              "      <td>0</td>\n",
              "      <td>160</td>\n",
              "      <td>39</td>\n",
              "      <td>0</td>\n",
              "      <td>38</td>\n",
              "      <td>4.0</td>\n",
              "      <td>6%</td>\n",
              "      <td>0%</td>\n",
              "      <td>10%</td>\n",
              "      <td>0%</td>\n",
              "      <td>0</td>\n",
              "    </tr>\n",
              "    <tr>\n",
              "      <th>239</th>\n",
              "      <td>Frappuccino® Blended Crème</td>\n",
              "      <td>Vanilla Bean (Without Whipped Cream)</td>\n",
              "      <td>Whole Milk</td>\n",
              "      <td>200</td>\n",
              "      <td>3.5</td>\n",
              "      <td>2.0</td>\n",
              "      <td>0.1</td>\n",
              "      <td>10</td>\n",
              "      <td>160</td>\n",
              "      <td>39</td>\n",
              "      <td>0</td>\n",
              "      <td>38</td>\n",
              "      <td>3.0</td>\n",
              "      <td>6%</td>\n",
              "      <td>0%</td>\n",
              "      <td>10%</td>\n",
              "      <td>0%</td>\n",
              "      <td>0</td>\n",
              "    </tr>\n",
              "    <tr>\n",
              "      <th>240</th>\n",
              "      <td>Frappuccino® Blended Crème</td>\n",
              "      <td>Vanilla Bean (Without Whipped Cream)</td>\n",
              "      <td>Soymilk</td>\n",
              "      <td>180</td>\n",
              "      <td>1.5</td>\n",
              "      <td>0.2</td>\n",
              "      <td>0.0</td>\n",
              "      <td>0</td>\n",
              "      <td>160</td>\n",
              "      <td>37</td>\n",
              "      <td>1</td>\n",
              "      <td>35</td>\n",
              "      <td>3.0</td>\n",
              "      <td>4%</td>\n",
              "      <td>0%</td>\n",
              "      <td>10%</td>\n",
              "      <td>6%</td>\n",
              "      <td>0</td>\n",
              "    </tr>\n",
              "    <tr>\n",
              "      <th>241</th>\n",
              "      <td>Frappuccino® Blended Crème</td>\n",
              "      <td>Vanilla Bean (Without Whipped Cream)</td>\n",
              "      <td>Grande Nonfat Milk</td>\n",
              "      <td>240</td>\n",
              "      <td>0.1</td>\n",
              "      <td>0.1</td>\n",
              "      <td>0.0</td>\n",
              "      <td>5</td>\n",
              "      <td>230</td>\n",
              "      <td>56</td>\n",
              "      <td>0</td>\n",
              "      <td>55</td>\n",
              "      <td>5.0</td>\n",
              "      <td>8%</td>\n",
              "      <td>0%</td>\n",
              "      <td>15%</td>\n",
              "      <td>0%</td>\n",
              "      <td>0</td>\n",
              "    </tr>\n",
              "  </tbody>\n",
              "</table>\n",
              "</div>"
            ],
            "text/plain": [
              "              Beverage_category  ... Caffeine (mg)\n",
              "237  Frappuccino® Blended Crème  ...             0\n",
              "238  Frappuccino® Blended Crème  ...             0\n",
              "239  Frappuccino® Blended Crème  ...             0\n",
              "240  Frappuccino® Blended Crème  ...             0\n",
              "241  Frappuccino® Blended Crème  ...             0\n",
              "\n",
              "[5 rows x 18 columns]"
            ]
          },
          "metadata": {
            "tags": []
          },
          "execution_count": 19
        }
      ]
    },
    {
      "cell_type": "markdown",
      "metadata": {
        "id": "ON0VatMS2gl5"
      },
      "source": [
        "# Shape of the Data\n",
        "\n",
        "> Analyzing the shape of the data will give you information on the relative size of your dataset. It surely is nothing groundbreaking, but it comes in handy when dealing with many different subsets of your data later on in your workflow and want to quickly check your data is in the correct form.\n",
        "\n",
        "\n",
        "> The following pandas method will return the shape of your data in a tuple format:\n",
        "\n",
        "\n",
        "```\n",
        "# Return the shape of your dataset\n",
        "df.shape\n",
        "```\n",
        "\n",
        "> The tuple which is returned can be interpreted as the first argument being the number of rows in your dataset, and the second argument being the number of columns:\n",
        "\n",
        "> (# of rows, # of columns)\n"
      ]
    },
    {
      "cell_type": "code",
      "metadata": {
        "id": "-u2kVNjr5Q1q",
        "colab": {
          "base_uri": "https://localhost:8080/"
        },
        "outputId": "526ebf31-f59f-46b8-b92d-0be338be47b2"
      },
      "source": [
        "#Return the shape of the data with .shape\n",
        "df.shape\n"
      ],
      "execution_count": null,
      "outputs": [
        {
          "output_type": "execute_result",
          "data": {
            "text/plain": [
              "(242, 18)"
            ]
          },
          "metadata": {
            "tags": []
          },
          "execution_count": 21
        }
      ]
    },
    {
      "cell_type": "code",
      "metadata": {
        "id": "6UVx-iJx_pwV"
      },
      "source": [
        ""
      ],
      "execution_count": null,
      "outputs": []
    },
    {
      "cell_type": "markdown",
      "metadata": {
        "id": "aKuW2Dpn81AD"
      },
      "source": [
        "# Column Properties\n",
        "\n",
        ">The columns of the data are extremely important, as their behavior and relationships with one another determine how we visualize and model our data later on in the project. Inspecting the properties of the columns can give us some valuable insights on how the data behaves."
      ]
    },
    {
      "cell_type": "markdown",
      "metadata": {
        "id": "dFU49BQb5XIn"
      },
      "source": [
        "# Column Names\n",
        "\n",
        "\n",
        "> To return the columns within our dataset use the following pandas method:\n",
        "\n",
        "\n",
        "```\n",
        "# Return the columsn of the data\n",
        "df.columns\n",
        "\n",
        "```\n",
        "\n",
        ">The output gives us what we want, but lets get it in easy-to-read format:\n",
        "\n",
        "\n",
        "\n",
        "```\n",
        "# Wrap the previous code with a list() function:\n",
        "list(df.columns)\n",
        "\n",
        "```\n",
        "\n",
        "> Ah yes! now this is easy to interpret, and now we can look at the individual column names in our dataset.\n"
      ]
    },
    {
      "cell_type": "code",
      "metadata": {
        "id": "0YlzZiLc87_c",
        "colab": {
          "base_uri": "https://localhost:8080/"
        },
        "outputId": "270f4ec7-047b-4ee6-ad1d-4a6d08a0a84d"
      },
      "source": [
        "#return the columns of the data\n",
        "\n",
        "df.columns\n"
      ],
      "execution_count": null,
      "outputs": [
        {
          "output_type": "execute_result",
          "data": {
            "text/plain": [
              "Index(['Beverage_category', 'Beverage', 'Beverage_prep', 'Calories',\n",
              "       ' Total Fat (g)', 'Trans Fat (g) ', 'Saturated Fat (g)', ' Sodium (mg)',\n",
              "       ' Total Carbohydrates (g) ', 'Cholesterol (mg)', ' Dietary Fibre (g)',\n",
              "       ' Sugars (g)', ' Protein (g) ', 'Vitamin A (% DV) ', 'Vitamin C (% DV)',\n",
              "       ' Calcium (% DV) ', 'Iron (% DV) ', 'Caffeine (mg)'],\n",
              "      dtype='object')"
            ]
          },
          "metadata": {
            "tags": []
          },
          "execution_count": 22
        }
      ]
    },
    {
      "cell_type": "code",
      "metadata": {
        "id": "kUABxQWZ897v",
        "colab": {
          "base_uri": "https://localhost:8080/"
        },
        "outputId": "f112cea6-fec0-4f91-ad0f-0e0576785646"
      },
      "source": [
        "#return the columns of the data in a list format\n",
        "\n",
        "list(df.columns)\n"
      ],
      "execution_count": null,
      "outputs": [
        {
          "output_type": "execute_result",
          "data": {
            "text/plain": [
              "['Beverage_category',\n",
              " 'Beverage',\n",
              " 'Beverage_prep',\n",
              " 'Calories',\n",
              " ' Total Fat (g)',\n",
              " 'Trans Fat (g) ',\n",
              " 'Saturated Fat (g)',\n",
              " ' Sodium (mg)',\n",
              " ' Total Carbohydrates (g) ',\n",
              " 'Cholesterol (mg)',\n",
              " ' Dietary Fibre (g)',\n",
              " ' Sugars (g)',\n",
              " ' Protein (g) ',\n",
              " 'Vitamin A (% DV) ',\n",
              " 'Vitamin C (% DV)',\n",
              " ' Calcium (% DV) ',\n",
              " 'Iron (% DV) ',\n",
              " 'Caffeine (mg)']"
            ]
          },
          "metadata": {
            "tags": []
          },
          "execution_count": 23
        }
      ]
    },
    {
      "cell_type": "markdown",
      "metadata": {
        "id": "s-SSeVaD9XiA"
      },
      "source": [
        "# Column Data Types\n",
        "\n",
        "> The data types of the columns are noteworthy pieces of information, since they play a factor in our data manipulation and cleaning tasks.\n",
        "\n",
        ">To get a look at the columns of the data and their associated data types, use the following pandas method:\n",
        "\n",
        "\n",
        "\n",
        "```\n",
        "# Return the data types of the column\n",
        "\n",
        "df.info()\n",
        "```\n",
        "\n",
        "> It is very common to see float64 and int64 data types, float64 (\"floating point\") refers to quantities which are in decimal format, and int64 (\"integers\") refer to whole numbers. 64 just represents the memory it takes up.\n",
        "The \"object\" datatype refers to the text data we have in our dataset. \n"
      ]
    },
    {
      "cell_type": "code",
      "metadata": {
        "id": "xzh14k5Q_qp5",
        "colab": {
          "base_uri": "https://localhost:8080/"
        },
        "outputId": "666da73d-befc-40c0-8436-1b642ca1e6b6"
      },
      "source": [
        "#Return the datatypes of the columns with info()\n",
        "\n",
        "df.info()"
      ],
      "execution_count": null,
      "outputs": [
        {
          "output_type": "stream",
          "text": [
            "<class 'pandas.core.frame.DataFrame'>\n",
            "RangeIndex: 242 entries, 0 to 241\n",
            "Data columns (total 18 columns):\n",
            " #   Column                     Non-Null Count  Dtype  \n",
            "---  ------                     --------------  -----  \n",
            " 0   Beverage_category          242 non-null    object \n",
            " 1   Beverage                   242 non-null    object \n",
            " 2   Beverage_prep              242 non-null    object \n",
            " 3   Calories                   242 non-null    int64  \n",
            " 4    Total Fat (g)             242 non-null    object \n",
            " 5   Trans Fat (g)              242 non-null    float64\n",
            " 6   Saturated Fat (g)          242 non-null    float64\n",
            " 7    Sodium (mg)               242 non-null    int64  \n",
            " 8    Total Carbohydrates (g)   242 non-null    int64  \n",
            " 9   Cholesterol (mg)           242 non-null    int64  \n",
            " 10   Dietary Fibre (g)         242 non-null    int64  \n",
            " 11   Sugars (g)                242 non-null    int64  \n",
            " 12   Protein (g)               242 non-null    float64\n",
            " 13  Vitamin A (% DV)           242 non-null    object \n",
            " 14  Vitamin C (% DV)           242 non-null    object \n",
            " 15   Calcium (% DV)            242 non-null    object \n",
            " 16  Iron (% DV)                242 non-null    object \n",
            " 17  Caffeine (mg)              241 non-null    object \n",
            "dtypes: float64(3), int64(6), object(9)\n",
            "memory usage: 34.2+ KB\n"
          ],
          "name": "stdout"
        }
      ]
    },
    {
      "cell_type": "markdown",
      "metadata": {
        "id": "cIuc8zy3AmCB"
      },
      "source": [
        "# Column Value Counts\n",
        "\n",
        "> To further our inspection of the columns in our data, we can take a look at the frequency of the values in a given column.\n",
        "\n",
        "> To check the relative counts of different values in a column, use the following pandas method:\n",
        "\n",
        "\n",
        "\n",
        "```\n",
        "# return the values and their counts in a column:\n",
        "\n",
        "df['column_name'].value_counts()\n",
        "\n",
        "or\n",
        "\n",
        "df.column_name.value_counts()\n",
        "\n",
        "```\n",
        "\n"
      ]
    },
    {
      "cell_type": "code",
      "metadata": {
        "id": "LxYWw1LYCdNa",
        "colab": {
          "base_uri": "https://localhost:8080/"
        },
        "outputId": "d4032797-e062-4f4a-b111-ab714b531145"
      },
      "source": [
        "#What are the different Beverage values and their counts? \n",
        "\n",
        "list(df.columns)\n"
      ],
      "execution_count": null,
      "outputs": [
        {
          "output_type": "execute_result",
          "data": {
            "text/plain": [
              "['Beverage_category',\n",
              " 'Beverage',\n",
              " 'Beverage_prep',\n",
              " 'Calories',\n",
              " ' Total Fat (g)',\n",
              " 'Trans Fat (g) ',\n",
              " 'Saturated Fat (g)',\n",
              " ' Sodium (mg)',\n",
              " ' Total Carbohydrates (g) ',\n",
              " 'Cholesterol (mg)',\n",
              " ' Dietary Fibre (g)',\n",
              " ' Sugars (g)',\n",
              " ' Protein (g) ',\n",
              " 'Vitamin A (% DV) ',\n",
              " 'Vitamin C (% DV)',\n",
              " ' Calcium (% DV) ',\n",
              " 'Iron (% DV) ',\n",
              " 'Caffeine (mg)']"
            ]
          },
          "metadata": {
            "tags": []
          },
          "execution_count": 25
        }
      ]
    },
    {
      "cell_type": "code",
      "metadata": {
        "id": "66ujXyzyBaRA",
        "colab": {
          "base_uri": "https://localhost:8080/"
        },
        "outputId": "d077fa05-dc1d-4588-8c1e-fadd2bf0037b"
      },
      "source": [
        "df['Beverage'].value_counts()"
      ],
      "execution_count": null,
      "outputs": [
        {
          "output_type": "execute_result",
          "data": {
            "text/plain": [
              "Vanilla Latte (Or Other Flavoured Latte)               12\n",
              "Tazo® Full-Leaf Tea Latte                              12\n",
              "Tazo® Green Tea Latte                                  12\n",
              "Caffè Latte                                            12\n",
              "White Chocolate Mocha (Without Whipped Cream)          12\n",
              "Hot Chocolate (Without Whipped Cream)                  12\n",
              "Tazo® Chai Tea Latte                                   12\n",
              "Caffè Mocha (Without Whipped Cream)                    12\n",
              "Tazo® Full-Leaf Red Tea Latte (Vanilla Rooibos)        12\n",
              "Coffee                                                 12\n",
              "Caramel Macchiato                                      12\n",
              "Cappuccino                                             12\n",
              "Iced Brewed Coffee (With Milk & Classic Syrup)          9\n",
              "Java Chip (Without Whipped Cream)                       9\n",
              "Mocha (Without Whipped Cream)                           9\n",
              "Strawberries & Crème (Without Whipped Cream)            9\n",
              "Caramel (Without Whipped Cream)                         9\n",
              "Caramel Apple Spice (Without Whipped Cream)             4\n",
              "Skinny Latte (Any Flavour)                              4\n",
              "Brewed Coffee                                           4\n",
              "Caffè Americano                                         4\n",
              "Vanilla Bean (Without Whipped Cream)                    4\n",
              "Tazo® Tea                                               4\n",
              "Orange Mango Banana Smoothie                            3\n",
              "Iced Brewed Coffee (With Classic Syrup)                 3\n",
              "Shaken Iced Tazo® Tea (With Classic Syrup)              3\n",
              "Mocha                                                   3\n",
              "Banana Chocolate Smoothie                               3\n",
              "Strawberry Banana Smoothie                              3\n",
              "Caramel                                                 3\n",
              "Shaken Iced Tazo® Tea Lemonade (With Classic Syrup)     3\n",
              "Java Chip                                               3\n",
              "Espresso                                                2\n",
              "Name: Beverage, dtype: int64"
            ]
          },
          "metadata": {
            "tags": []
          },
          "execution_count": 27
        }
      ]
    },
    {
      "cell_type": "markdown",
      "metadata": {
        "id": "H7rPSQAdIP6I"
      },
      "source": [
        "# Summary Statistics\n",
        "\n",
        "\n",
        ">Now that we have explored the properties of our data, its now time to get into the numbers, and take a look at various summary statistics that our data contains:\n",
        "\n",
        "\n",
        "*   Mean\n",
        "*   Median\n",
        "*   Maximum value\n",
        "*   Minimum Value\n",
        "\n",
        "\n",
        "\n",
        "\n",
        "\n",
        ">In pandas, we have the choice to return column specific summary statistics, as well as statistics for the whole dataframe itself.\n",
        "\n",
        "\n",
        "\n",
        "\n",
        "\n",
        "\n"
      ]
    },
    {
      "cell_type": "markdown",
      "metadata": {
        "id": "rhx8sbbHK56e"
      },
      "source": [
        "\n",
        "\n",
        "# Mean\n",
        "\n",
        ">To return the mean of the data use the following pandas function:\n",
        "\n",
        "\n",
        "\n",
        "```\n",
        "# Column specific mean\n",
        "df['column_name'].mean()\n",
        "\n",
        "or\n",
        "\n",
        "df.column_name.mean()\n",
        "\n",
        "#Mean for all columns in the dataframe\n",
        "df.mean()\n",
        "```"
      ]
    },
    {
      "cell_type": "code",
      "metadata": {
        "id": "lr2PHYEN0Ro6"
      },
      "source": [
        ""
      ],
      "execution_count": null,
      "outputs": []
    },
    {
      "cell_type": "code",
      "metadata": {
        "id": "Vt1r3B7lLB2J",
        "colab": {
          "base_uri": "https://localhost:8080/"
        },
        "outputId": "8e3304eb-e219-4e28-8839-b986655afbe4"
      },
      "source": [
        "#What is the average sugar content in starbucks drinks?\n",
        "\n",
        "df[' Sugars (g)'].mean()"
      ],
      "execution_count": null,
      "outputs": [
        {
          "output_type": "execute_result",
          "data": {
            "text/plain": [
              "32.96280991735537"
            ]
          },
          "metadata": {
            "tags": []
          },
          "execution_count": 29
        }
      ]
    },
    {
      "cell_type": "code",
      "metadata": {
        "id": "a9LLAlpkMHgq",
        "colab": {
          "base_uri": "https://localhost:8080/"
        },
        "outputId": "2b1c3bb1-c900-4a8e-bce5-2f644d0ff9ee"
      },
      "source": [
        "#What is the average of all the nutritional information of our data?\n",
        "\n",
        "df.mean()\n"
      ],
      "execution_count": null,
      "outputs": [
        {
          "output_type": "execute_result",
          "data": {
            "text/plain": [
              "Calories                     193.871901\n",
              "Trans Fat (g)                  1.307025\n",
              "Saturated Fat (g)              0.037603\n",
              " Sodium (mg)                   6.363636\n",
              " Total Carbohydrates (g)     128.884298\n",
              "Cholesterol (mg)              35.991736\n",
              " Dietary Fibre (g)             0.805785\n",
              " Sugars (g)                   32.962810\n",
              " Protein (g)                   6.978512\n",
              "dtype: float64"
            ]
          },
          "metadata": {
            "tags": []
          },
          "execution_count": 30
        }
      ]
    },
    {
      "cell_type": "code",
      "metadata": {
        "id": "ffNOXLQ2NZyH"
      },
      "source": [
        "#Why are not all of our columns showing the mean?"
      ],
      "execution_count": null,
      "outputs": []
    },
    {
      "cell_type": "code",
      "metadata": {
        "id": "EJ0q1v1RCUwG"
      },
      "source": [
        ""
      ],
      "execution_count": null,
      "outputs": []
    },
    {
      "cell_type": "code",
      "metadata": {
        "id": "pXX7m0xlMxAV"
      },
      "source": [
        "#What is the average caffeine content in starbucks drinks?\n",
        "\n",
        "df['Caffeine (mg)'].mean()"
      ],
      "execution_count": null,
      "outputs": []
    },
    {
      "cell_type": "code",
      "metadata": {
        "id": "I982LHpUCiAH"
      },
      "source": [
        "df['Caffeine (mg)'].value_counts()"
      ],
      "execution_count": null,
      "outputs": []
    },
    {
      "cell_type": "code",
      "metadata": {
        "id": "kyPlhRajMsnu"
      },
      "source": [
        ""
      ],
      "execution_count": null,
      "outputs": []
    },
    {
      "cell_type": "markdown",
      "metadata": {
        "id": "NxAtq212K-zs"
      },
      "source": [
        "\n",
        "#Median\n",
        "\n",
        ">to return the median of the data use the following pandas functions:\n",
        "\n",
        "\n",
        "\n",
        "```\n",
        "# Column specific median\n",
        "df['column_name'].median()\n",
        "\n",
        "or\n",
        "\n",
        "df.column_name.median()\n",
        "\n",
        "\n",
        "#Median for all columns in the dataframe\n",
        "df.median()\n",
        "```"
      ]
    },
    {
      "cell_type": "code",
      "metadata": {
        "id": "p6Ol1LQSDJSZ",
        "colab": {
          "base_uri": "https://localhost:8080/"
        },
        "outputId": "b42bd816-5471-40bf-a41d-4f0a6d3ca4e3"
      },
      "source": [
        "#Return the median number of sugars\n",
        "\n",
        "df[' Sugars (g)'].median()\n"
      ],
      "execution_count": null,
      "outputs": [
        {
          "output_type": "execute_result",
          "data": {
            "text/plain": [
              "32.0"
            ]
          },
          "metadata": {
            "tags": []
          },
          "execution_count": 34
        }
      ]
    },
    {
      "cell_type": "code",
      "metadata": {
        "id": "cj186Op9DPig",
        "colab": {
          "base_uri": "https://localhost:8080/"
        },
        "outputId": "b93c9f6e-088e-4018-bd22-c80309e6c9e8"
      },
      "source": [
        "#return the median for all nutritional information\n",
        "\n",
        "df.median()"
      ],
      "execution_count": null,
      "outputs": [
        {
          "output_type": "execute_result",
          "data": {
            "text/plain": [
              "Calories                     185.0\n",
              "Trans Fat (g)                  0.5\n",
              "Saturated Fat (g)              0.0\n",
              " Sodium (mg)                   5.0\n",
              " Total Carbohydrates (g)     125.0\n",
              "Cholesterol (mg)              34.0\n",
              " Dietary Fibre (g)             0.0\n",
              " Sugars (g)                   32.0\n",
              " Protein (g)                   6.0\n",
              "dtype: float64"
            ]
          },
          "metadata": {
            "tags": []
          },
          "execution_count": 35
        }
      ]
    },
    {
      "cell_type": "markdown",
      "metadata": {
        "id": "o9dZNgx3NlvJ"
      },
      "source": [
        "# Maximum Value\n",
        "\n",
        ">To return the maximum value of the data use the following pandas functions:\n",
        "\n",
        "\n",
        "\n",
        "```\n",
        "# Column specific maximum value\n",
        "df['column_name'].max()\n",
        "\n",
        "or \n",
        "\n",
        "df.column_name.max()\n",
        "\n",
        "\n",
        "#Maximum value for all columns in dataframe\n",
        "df.max()\n",
        "```\n",
        "\n",
        "\n",
        ">Note: the max() function will also return the word with highest alphabetical character from a column with text.\n",
        "\n",
        "\n",
        "\n",
        "\n",
        "\n",
        "# Minimum Value\n",
        "\n",
        "\n",
        ">To return the minimum value of the data use the following pandas functions:\n",
        "\n",
        "```\n",
        "# Column specific minumum value\n",
        "df['column_name'].min()\n",
        "\n",
        "or \n",
        "\n",
        "df.column_name.min()\n",
        "\n",
        "\n",
        "#Minimum value for all columns in dataframe\n",
        "df.min()\n",
        "```\n"
      ]
    },
    {
      "cell_type": "code",
      "metadata": {
        "id": "CTNOOdv81gB-"
      },
      "source": [
        ""
      ],
      "execution_count": null,
      "outputs": []
    },
    {
      "cell_type": "code",
      "metadata": {
        "id": "v2_eTlHuNkMf"
      },
      "source": [
        "#Whats the maximum amount of Protein in a starbucks drink? \n",
        "\n"
      ],
      "execution_count": null,
      "outputs": []
    },
    {
      "cell_type": "code",
      "metadata": {
        "id": "CYtIRYDvPxmU"
      },
      "source": [
        "#Whats the minimum?\n",
        "\n"
      ],
      "execution_count": null,
      "outputs": []
    },
    {
      "cell_type": "code",
      "metadata": {
        "id": "D0CUACYYPQ2j"
      },
      "source": [
        "#Whats the maximum value for all columns in the data?\n"
      ],
      "execution_count": null,
      "outputs": []
    },
    {
      "cell_type": "code",
      "metadata": {
        "id": "sKe6Av5bP1fn"
      },
      "source": [
        "#Minimum?\n",
        "\n"
      ],
      "execution_count": null,
      "outputs": []
    },
    {
      "cell_type": "markdown",
      "metadata": {
        "id": "efd-xAAfP4FA"
      },
      "source": [
        "# Dataframe Summary Statistics\n",
        "\n",
        ">Viewing individual summary statistics for a column is great, but it would be nice if we could get a data frame which returns summary statistics for all columns.\n",
        "\n",
        ">To return a dataframe which consists of all basic summary statistics for each column, use this pandas function:\n",
        "\n",
        "\n",
        "\n",
        "```\n",
        "# Return a dataframe of summary statistics for all numerical values\n",
        "df.describe()\n",
        "```\n",
        "\n",
        ">As always you can also do this with single columns as well\n",
        "\n",
        "\n",
        "```\n",
        "# Return statistics for a specific column\n",
        "df['column_name'].describe()\n",
        "\n",
        "or \n",
        "\n",
        "df.column_name.describe()\n",
        "```\n",
        "\n"
      ]
    },
    {
      "cell_type": "code",
      "metadata": {
        "id": "ee9YNP40a-Nf",
        "colab": {
          "base_uri": "https://localhost:8080/",
          "height": 297
        },
        "outputId": "3a3abfce-a01f-41b2-f65a-f3e421906548"
      },
      "source": [
        "#Return a dataframe of summary statistics using .describe()\n",
        "\n",
        "df.describe()\n"
      ],
      "execution_count": null,
      "outputs": [
        {
          "output_type": "execute_result",
          "data": {
            "text/html": [
              "<div>\n",
              "<style scoped>\n",
              "    .dataframe tbody tr th:only-of-type {\n",
              "        vertical-align: middle;\n",
              "    }\n",
              "\n",
              "    .dataframe tbody tr th {\n",
              "        vertical-align: top;\n",
              "    }\n",
              "\n",
              "    .dataframe thead th {\n",
              "        text-align: right;\n",
              "    }\n",
              "</style>\n",
              "<table border=\"1\" class=\"dataframe\">\n",
              "  <thead>\n",
              "    <tr style=\"text-align: right;\">\n",
              "      <th></th>\n",
              "      <th>Calories</th>\n",
              "      <th>Trans Fat (g)</th>\n",
              "      <th>Saturated Fat (g)</th>\n",
              "      <th>Sodium (mg)</th>\n",
              "      <th>Total Carbohydrates (g)</th>\n",
              "      <th>Cholesterol (mg)</th>\n",
              "      <th>Dietary Fibre (g)</th>\n",
              "      <th>Sugars (g)</th>\n",
              "      <th>Protein (g)</th>\n",
              "    </tr>\n",
              "  </thead>\n",
              "  <tbody>\n",
              "    <tr>\n",
              "      <th>count</th>\n",
              "      <td>242.000000</td>\n",
              "      <td>242.000000</td>\n",
              "      <td>242.000000</td>\n",
              "      <td>242.000000</td>\n",
              "      <td>242.000000</td>\n",
              "      <td>242.000000</td>\n",
              "      <td>242.000000</td>\n",
              "      <td>242.000000</td>\n",
              "      <td>242.000000</td>\n",
              "    </tr>\n",
              "    <tr>\n",
              "      <th>mean</th>\n",
              "      <td>193.871901</td>\n",
              "      <td>1.307025</td>\n",
              "      <td>0.037603</td>\n",
              "      <td>6.363636</td>\n",
              "      <td>128.884298</td>\n",
              "      <td>35.991736</td>\n",
              "      <td>0.805785</td>\n",
              "      <td>32.962810</td>\n",
              "      <td>6.978512</td>\n",
              "    </tr>\n",
              "    <tr>\n",
              "      <th>std</th>\n",
              "      <td>102.863303</td>\n",
              "      <td>1.640259</td>\n",
              "      <td>0.071377</td>\n",
              "      <td>8.630257</td>\n",
              "      <td>82.303223</td>\n",
              "      <td>20.795186</td>\n",
              "      <td>1.445944</td>\n",
              "      <td>19.730199</td>\n",
              "      <td>4.871659</td>\n",
              "    </tr>\n",
              "    <tr>\n",
              "      <th>min</th>\n",
              "      <td>0.000000</td>\n",
              "      <td>0.000000</td>\n",
              "      <td>0.000000</td>\n",
              "      <td>0.000000</td>\n",
              "      <td>0.000000</td>\n",
              "      <td>0.000000</td>\n",
              "      <td>0.000000</td>\n",
              "      <td>0.000000</td>\n",
              "      <td>0.000000</td>\n",
              "    </tr>\n",
              "    <tr>\n",
              "      <th>25%</th>\n",
              "      <td>120.000000</td>\n",
              "      <td>0.100000</td>\n",
              "      <td>0.000000</td>\n",
              "      <td>0.000000</td>\n",
              "      <td>70.000000</td>\n",
              "      <td>21.000000</td>\n",
              "      <td>0.000000</td>\n",
              "      <td>18.000000</td>\n",
              "      <td>3.000000</td>\n",
              "    </tr>\n",
              "    <tr>\n",
              "      <th>50%</th>\n",
              "      <td>185.000000</td>\n",
              "      <td>0.500000</td>\n",
              "      <td>0.000000</td>\n",
              "      <td>5.000000</td>\n",
              "      <td>125.000000</td>\n",
              "      <td>34.000000</td>\n",
              "      <td>0.000000</td>\n",
              "      <td>32.000000</td>\n",
              "      <td>6.000000</td>\n",
              "    </tr>\n",
              "    <tr>\n",
              "      <th>75%</th>\n",
              "      <td>260.000000</td>\n",
              "      <td>2.000000</td>\n",
              "      <td>0.100000</td>\n",
              "      <td>10.000000</td>\n",
              "      <td>170.000000</td>\n",
              "      <td>50.750000</td>\n",
              "      <td>1.000000</td>\n",
              "      <td>43.750000</td>\n",
              "      <td>10.000000</td>\n",
              "    </tr>\n",
              "    <tr>\n",
              "      <th>max</th>\n",
              "      <td>510.000000</td>\n",
              "      <td>9.000000</td>\n",
              "      <td>0.300000</td>\n",
              "      <td>40.000000</td>\n",
              "      <td>340.000000</td>\n",
              "      <td>90.000000</td>\n",
              "      <td>8.000000</td>\n",
              "      <td>84.000000</td>\n",
              "      <td>20.000000</td>\n",
              "    </tr>\n",
              "  </tbody>\n",
              "</table>\n",
              "</div>"
            ],
            "text/plain": [
              "         Calories  Trans Fat (g)   ...   Sugars (g)   Protein (g) \n",
              "count  242.000000      242.000000  ...   242.000000     242.000000\n",
              "mean   193.871901        1.307025  ...    32.962810       6.978512\n",
              "std    102.863303        1.640259  ...    19.730199       4.871659\n",
              "min      0.000000        0.000000  ...     0.000000       0.000000\n",
              "25%    120.000000        0.100000  ...    18.000000       3.000000\n",
              "50%    185.000000        0.500000  ...    32.000000       6.000000\n",
              "75%    260.000000        2.000000  ...    43.750000      10.000000\n",
              "max    510.000000        9.000000  ...    84.000000      20.000000\n",
              "\n",
              "[8 rows x 9 columns]"
            ]
          },
          "metadata": {
            "tags": []
          },
          "execution_count": 36
        }
      ]
    },
    {
      "cell_type": "markdown",
      "metadata": {
        "id": "LXjxbqkmbwQu"
      },
      "source": [
        "# Correlation Matrix\n",
        "\n",
        "> Indentifying relationships between variables in the data is at the heart of various data science tasks. Identifying correlation between variables can help us get an idea of which of them will useful for future modeling and prediction.\n",
        "\n",
        ">Use the following pandas function to return a dataframe of correlations between variables, also known as a \"correlation matrix\":\n",
        "\n",
        "\n",
        "\n",
        "```\n",
        "# Return correlation matrix\n",
        "df.corr()\n",
        "```\n",
        "\n",
        "> This gives us a nice visual of the various correlation coefficients between our columns in the dataset.\n",
        "\n",
        ">Note: a quick reminder, correlation is quantified on a scale between -1 to 1, where -1 indicates a strong negative relationship, 0 indicates no relationship, and 1 indicates a strong positive relationship between two variables.\n"
      ]
    },
    {
      "cell_type": "code",
      "metadata": {
        "id": "rRwvdbJrbvx9",
        "colab": {
          "base_uri": "https://localhost:8080/",
          "height": 328
        },
        "outputId": "a610eb73-b046-4ba2-8bc0-a3a47bda203f"
      },
      "source": [
        "#How are our variables related to one another? Discover this with the .corr() \n",
        "\n",
        "df.corr()\n"
      ],
      "execution_count": null,
      "outputs": [
        {
          "output_type": "execute_result",
          "data": {
            "text/html": [
              "<div>\n",
              "<style scoped>\n",
              "    .dataframe tbody tr th:only-of-type {\n",
              "        vertical-align: middle;\n",
              "    }\n",
              "\n",
              "    .dataframe tbody tr th {\n",
              "        vertical-align: top;\n",
              "    }\n",
              "\n",
              "    .dataframe thead th {\n",
              "        text-align: right;\n",
              "    }\n",
              "</style>\n",
              "<table border=\"1\" class=\"dataframe\">\n",
              "  <thead>\n",
              "    <tr style=\"text-align: right;\">\n",
              "      <th></th>\n",
              "      <th>Calories</th>\n",
              "      <th>Trans Fat (g)</th>\n",
              "      <th>Saturated Fat (g)</th>\n",
              "      <th>Sodium (mg)</th>\n",
              "      <th>Total Carbohydrates (g)</th>\n",
              "      <th>Cholesterol (mg)</th>\n",
              "      <th>Dietary Fibre (g)</th>\n",
              "      <th>Sugars (g)</th>\n",
              "      <th>Protein (g)</th>\n",
              "    </tr>\n",
              "  </thead>\n",
              "  <tbody>\n",
              "    <tr>\n",
              "      <th>Calories</th>\n",
              "      <td>1.000000</td>\n",
              "      <td>0.642818</td>\n",
              "      <td>0.331047</td>\n",
              "      <td>0.387892</td>\n",
              "      <td>0.795037</td>\n",
              "      <td>0.940034</td>\n",
              "      <td>0.384292</td>\n",
              "      <td>0.909675</td>\n",
              "      <td>0.578453</td>\n",
              "    </tr>\n",
              "    <tr>\n",
              "      <th>Trans Fat (g)</th>\n",
              "      <td>0.642818</td>\n",
              "      <td>1.000000</td>\n",
              "      <td>0.694871</td>\n",
              "      <td>0.707794</td>\n",
              "      <td>0.524176</td>\n",
              "      <td>0.439811</td>\n",
              "      <td>0.131267</td>\n",
              "      <td>0.419887</td>\n",
              "      <td>0.496317</td>\n",
              "    </tr>\n",
              "    <tr>\n",
              "      <th>Saturated Fat (g)</th>\n",
              "      <td>0.331047</td>\n",
              "      <td>0.694871</td>\n",
              "      <td>1.000000</td>\n",
              "      <td>0.920077</td>\n",
              "      <td>0.238142</td>\n",
              "      <td>0.161791</td>\n",
              "      <td>-0.093783</td>\n",
              "      <td>0.179255</td>\n",
              "      <td>0.287532</td>\n",
              "    </tr>\n",
              "    <tr>\n",
              "      <th>Sodium (mg)</th>\n",
              "      <td>0.387892</td>\n",
              "      <td>0.707794</td>\n",
              "      <td>0.920077</td>\n",
              "      <td>1.000000</td>\n",
              "      <td>0.290295</td>\n",
              "      <td>0.199477</td>\n",
              "      <td>-0.060154</td>\n",
              "      <td>0.205969</td>\n",
              "      <td>0.496233</td>\n",
              "    </tr>\n",
              "    <tr>\n",
              "      <th>Total Carbohydrates (g)</th>\n",
              "      <td>0.795037</td>\n",
              "      <td>0.524176</td>\n",
              "      <td>0.238142</td>\n",
              "      <td>0.290295</td>\n",
              "      <td>1.000000</td>\n",
              "      <td>0.766654</td>\n",
              "      <td>0.173378</td>\n",
              "      <td>0.771407</td>\n",
              "      <td>0.410629</td>\n",
              "    </tr>\n",
              "    <tr>\n",
              "      <th>Cholesterol (mg)</th>\n",
              "      <td>0.940034</td>\n",
              "      <td>0.439811</td>\n",
              "      <td>0.161791</td>\n",
              "      <td>0.199477</td>\n",
              "      <td>0.766654</td>\n",
              "      <td>1.000000</td>\n",
              "      <td>0.342040</td>\n",
              "      <td>0.984196</td>\n",
              "      <td>0.360449</td>\n",
              "    </tr>\n",
              "    <tr>\n",
              "      <th>Dietary Fibre (g)</th>\n",
              "      <td>0.384292</td>\n",
              "      <td>0.131267</td>\n",
              "      <td>-0.093783</td>\n",
              "      <td>-0.060154</td>\n",
              "      <td>0.173378</td>\n",
              "      <td>0.342040</td>\n",
              "      <td>1.000000</td>\n",
              "      <td>0.184171</td>\n",
              "      <td>0.540274</td>\n",
              "    </tr>\n",
              "    <tr>\n",
              "      <th>Sugars (g)</th>\n",
              "      <td>0.909675</td>\n",
              "      <td>0.419887</td>\n",
              "      <td>0.179255</td>\n",
              "      <td>0.205969</td>\n",
              "      <td>0.771407</td>\n",
              "      <td>0.984196</td>\n",
              "      <td>0.184171</td>\n",
              "      <td>1.000000</td>\n",
              "      <td>0.263061</td>\n",
              "    </tr>\n",
              "    <tr>\n",
              "      <th>Protein (g)</th>\n",
              "      <td>0.578453</td>\n",
              "      <td>0.496317</td>\n",
              "      <td>0.287532</td>\n",
              "      <td>0.496233</td>\n",
              "      <td>0.410629</td>\n",
              "      <td>0.360449</td>\n",
              "      <td>0.540274</td>\n",
              "      <td>0.263061</td>\n",
              "      <td>1.000000</td>\n",
              "    </tr>\n",
              "  </tbody>\n",
              "</table>\n",
              "</div>"
            ],
            "text/plain": [
              "                           Calories  Trans Fat (g)   ...   Sugars (g)   Protein (g) \n",
              "Calories                   1.000000        0.642818  ...     0.909675       0.578453\n",
              "Trans Fat (g)              0.642818        1.000000  ...     0.419887       0.496317\n",
              "Saturated Fat (g)          0.331047        0.694871  ...     0.179255       0.287532\n",
              " Sodium (mg)               0.387892        0.707794  ...     0.205969       0.496233\n",
              " Total Carbohydrates (g)   0.795037        0.524176  ...     0.771407       0.410629\n",
              "Cholesterol (mg)           0.940034        0.439811  ...     0.984196       0.360449\n",
              " Dietary Fibre (g)         0.384292        0.131267  ...     0.184171       0.540274\n",
              " Sugars (g)                0.909675        0.419887  ...     1.000000       0.263061\n",
              " Protein (g)               0.578453        0.496317  ...     0.263061       1.000000\n",
              "\n",
              "[9 rows x 9 columns]"
            ]
          },
          "metadata": {
            "tags": []
          },
          "execution_count": 37
        }
      ]
    },
    {
      "cell_type": "code",
      "metadata": {
        "id": "pWn8ke92dI-8"
      },
      "source": [
        "#What do you notice? Are there any relationships that surprised you? Anything which seemed like common knowledge?\n",
        "\n"
      ],
      "execution_count": null,
      "outputs": []
    },
    {
      "cell_type": "markdown",
      "metadata": {
        "id": "6yznBZ2UeXKh"
      },
      "source": [
        "# Transforming Data\n",
        "\n",
        ">Now that we have explored the basic features of our data, its time to manipulate and subset our data for ease of use. Data cleaning can be a very involved task, but if you become comfortable with fundamental data manipulation tasks, your see great improvement in your workflow efficiency!\n",
        "\n",
        "> Two common actions which are used often in data manipulation are:\n",
        "*   Renaming Columns\n",
        "*   Subsetting Data\n",
        "\n",
        "\n"
      ]
    },
    {
      "cell_type": "markdown",
      "metadata": {
        "id": "bFEbkYqJf0Fs"
      },
      "source": [
        "# Renaming Columns\n",
        "\n",
        "> Renaming columns may seem like a trivial task, but it makes accessing data much easier if you can transform the names into a user friendly format.\n",
        "\n",
        ">Use the following function to rename a column in a data frame\n",
        "\n",
        "\n",
        "```\n",
        "# returns a new data frame with the changed column\n",
        "\n",
        "df.rename(columns={'old_column__name' : 'new_column_name'})\n",
        "\n",
        "\n",
        "```\n",
        "\n",
        ">Note: the ```{ : }``` data structure is known as a \"dictionary\" in python. It is a data structure used to hold key and value pair like so: ```{key : value}```\n",
        "\n",
        "\n",
        "> Lets say we we want to change multiple columns in one line of code, we can do this easily, by just adding it as another element within the dictionary\n",
        "\n",
        "\n",
        "\n",
        "```\n",
        "# Rename multiple columns from the dataframe\n",
        "\n",
        "df.rename(columns={'column_1' : 'new_column_1', 'column_2' : 'new_column_2', 'column_3' : 'new_column_3'})\n",
        "\n",
        "```\n",
        "\n",
        "\n",
        "\n"
      ]
    },
    {
      "cell_type": "code",
      "metadata": {
        "id": "UpKFPD7SkIsC"
      },
      "source": [
        "#Lets first get a list of our column names\n",
        "help(df.rename)"
      ],
      "execution_count": null,
      "outputs": []
    },
    {
      "cell_type": "code",
      "metadata": {
        "id": "Ofg_WF0xkRVN",
        "colab": {
          "base_uri": "https://localhost:8080/"
        },
        "outputId": "fcdaa10d-232f-4d76-e95d-ca8776958a75"
      },
      "source": [
        "#Rename the ' Protein (g) ' column to \"Protein\"\n",
        "\n",
        "list(df.columns)"
      ],
      "execution_count": null,
      "outputs": [
        {
          "output_type": "execute_result",
          "data": {
            "text/plain": [
              "['Beverage_category',\n",
              " 'Beverage',\n",
              " 'Beverage_prep',\n",
              " 'Calories',\n",
              " ' Total Fat (g)',\n",
              " 'Trans Fat (g) ',\n",
              " 'Saturated Fat (g)',\n",
              " ' Sodium (mg)',\n",
              " ' Total Carbohydrates (g) ',\n",
              " 'Cholesterol (mg)',\n",
              " ' Dietary Fibre (g)',\n",
              " ' Sugars (g)',\n",
              " ' Protein (g) ',\n",
              " 'Vitamin A (% DV) ',\n",
              " 'Vitamin C (% DV)',\n",
              " ' Calcium (% DV) ',\n",
              " 'Iron (% DV) ',\n",
              " 'Caffeine (mg)']"
            ]
          },
          "metadata": {
            "tags": []
          },
          "execution_count": 39
        }
      ]
    },
    {
      "cell_type": "code",
      "metadata": {
        "id": "Tod5X8Iw3jcx"
      },
      "source": [
        "df.rename(columns={' Protein (g) ':'Protein'})"
      ],
      "execution_count": null,
      "outputs": []
    },
    {
      "cell_type": "code",
      "metadata": {
        "id": "kPtG2be_kW0u"
      },
      "source": [
        "#Rename the 'Trans Fat (g) ' column to \"Trans_Fat\"\n",
        "\n",
        "df.rename(columns={'Trans Fat (g) ':'Trans_Fat'})\n"
      ],
      "execution_count": null,
      "outputs": []
    },
    {
      "cell_type": "code",
      "metadata": {
        "id": "d1HYFsMf8fjN"
      },
      "source": [
        ""
      ],
      "execution_count": null,
      "outputs": []
    },
    {
      "cell_type": "code",
      "metadata": {
        "id": "fztSl3EqlUuM"
      },
      "source": [
        "#Rename the 'Caffeine (mg)' column to Caffeine, ' Sugars (g)' to 'Sugars' and 'Saturated Fat (g)' to Saturated_Fat\n",
        "\n",
        "df.rename(columns={'Caffeine (mg)':'Caffine', ' Sugars (g)':'Sugars', 'Saturated Fat (g)':'Saturated_Fat'})\n"
      ],
      "execution_count": null,
      "outputs": []
    },
    {
      "cell_type": "markdown",
      "metadata": {
        "id": "LDk4JY-VlzAx"
      },
      "source": [
        "# Subsetting Data\n",
        "\n",
        "> Subsetting data is one of the most common tasks in a data science project. Often times we don't want to work with the entire dataset at once, and we may want to work with a sample of it instead.\n",
        "\n",
        ">The great thing is, there is nothing new to learn here, because we have already been doing this! So far we have only been subsetting one column, but to subset multiple column, we can do it like so:\n",
        "\n",
        "\n",
        "```\n",
        "# Returning one column:\n",
        "\n",
        "df['column_name']\n",
        "\n",
        "\n",
        "\n",
        "#Returning multiple:\n",
        "\n",
        "df[['column_1_name', 'column_2_name', 'column_3_name']]\n",
        "\n",
        "\n",
        "or\n",
        "\n",
        "\n",
        "#Specify an array of columns and pass it in\n",
        "\n",
        "arr = ['column_1_name', 'column_2_name', 'column_3_name']\n",
        "\n",
        "df[arr]\n",
        "\n",
        "\n",
        "#We can even save this subsetted data frame to another object\n",
        "\n",
        "arr = ['column_1_name', 'column_2_name', 'column_3_name']\n",
        "\n",
        "new_df = df[arr]\n",
        "\n",
        "\n",
        "```\n",
        "\n",
        "> The only difference between subsetting one column, and subsetting multiple, is that all we need to do is pass an array of column name strings, and we get our filtered data frame!"
      ]
    },
    {
      "cell_type": "code",
      "metadata": {
        "id": "daRuOO8G4S7g",
        "colab": {
          "base_uri": "https://localhost:8080/"
        },
        "outputId": "1b3eeb66-84a5-40c7-b0c3-63fadd9ba663"
      },
      "source": [
        "list(df.columns)"
      ],
      "execution_count": null,
      "outputs": [
        {
          "output_type": "execute_result",
          "data": {
            "text/plain": [
              "['Beverage_category',\n",
              " 'Beverage',\n",
              " 'Beverage_prep',\n",
              " 'Calories',\n",
              " ' Total Fat (g)',\n",
              " 'Trans Fat (g) ',\n",
              " 'Saturated Fat (g)',\n",
              " ' Sodium (mg)',\n",
              " ' Total Carbohydrates (g) ',\n",
              " 'Cholesterol (mg)',\n",
              " ' Dietary Fibre (g)',\n",
              " ' Sugars (g)',\n",
              " ' Protein (g) ',\n",
              " 'Vitamin A (% DV) ',\n",
              " 'Vitamin C (% DV)',\n",
              " ' Calcium (% DV) ',\n",
              " 'Iron (% DV) ',\n",
              " 'Caffeine (mg)']"
            ]
          },
          "metadata": {
            "tags": []
          },
          "execution_count": 44
        }
      ]
    },
    {
      "cell_type": "code",
      "metadata": {
        "id": "3OA0Fhf2nn7n",
        "colab": {
          "base_uri": "https://localhost:8080/",
          "height": 419
        },
        "outputId": "8bd12e48-2d70-40ad-ed76-6a6c94321d9f"
      },
      "source": [
        "#select the Beverage Category, Beverage, Beverage Prep and Calories columns, save it to a variable: data_subset\n",
        "column_arr = ['Beverage_category', 'Beverage_prep', 'Calories']\n",
        "\n",
        "data_subset = df[column_arr]\n",
        "\n",
        "data_subset"
      ],
      "execution_count": null,
      "outputs": [
        {
          "output_type": "execute_result",
          "data": {
            "text/html": [
              "<div>\n",
              "<style scoped>\n",
              "    .dataframe tbody tr th:only-of-type {\n",
              "        vertical-align: middle;\n",
              "    }\n",
              "\n",
              "    .dataframe tbody tr th {\n",
              "        vertical-align: top;\n",
              "    }\n",
              "\n",
              "    .dataframe thead th {\n",
              "        text-align: right;\n",
              "    }\n",
              "</style>\n",
              "<table border=\"1\" class=\"dataframe\">\n",
              "  <thead>\n",
              "    <tr style=\"text-align: right;\">\n",
              "      <th></th>\n",
              "      <th>Beverage_category</th>\n",
              "      <th>Beverage_prep</th>\n",
              "      <th>Calories</th>\n",
              "    </tr>\n",
              "  </thead>\n",
              "  <tbody>\n",
              "    <tr>\n",
              "      <th>0</th>\n",
              "      <td>Coffee</td>\n",
              "      <td>Short</td>\n",
              "      <td>3</td>\n",
              "    </tr>\n",
              "    <tr>\n",
              "      <th>1</th>\n",
              "      <td>Coffee</td>\n",
              "      <td>Tall</td>\n",
              "      <td>4</td>\n",
              "    </tr>\n",
              "    <tr>\n",
              "      <th>2</th>\n",
              "      <td>Coffee</td>\n",
              "      <td>Grande</td>\n",
              "      <td>5</td>\n",
              "    </tr>\n",
              "    <tr>\n",
              "      <th>3</th>\n",
              "      <td>Coffee</td>\n",
              "      <td>Venti</td>\n",
              "      <td>5</td>\n",
              "    </tr>\n",
              "    <tr>\n",
              "      <th>4</th>\n",
              "      <td>Classic Espresso Drinks</td>\n",
              "      <td>Short Nonfat Milk</td>\n",
              "      <td>70</td>\n",
              "    </tr>\n",
              "    <tr>\n",
              "      <th>...</th>\n",
              "      <td>...</td>\n",
              "      <td>...</td>\n",
              "      <td>...</td>\n",
              "    </tr>\n",
              "    <tr>\n",
              "      <th>237</th>\n",
              "      <td>Frappuccino® Blended Crème</td>\n",
              "      <td>Soymilk</td>\n",
              "      <td>320</td>\n",
              "    </tr>\n",
              "    <tr>\n",
              "      <th>238</th>\n",
              "      <td>Frappuccino® Blended Crème</td>\n",
              "      <td>Tall Nonfat Milk</td>\n",
              "      <td>170</td>\n",
              "    </tr>\n",
              "    <tr>\n",
              "      <th>239</th>\n",
              "      <td>Frappuccino® Blended Crème</td>\n",
              "      <td>Whole Milk</td>\n",
              "      <td>200</td>\n",
              "    </tr>\n",
              "    <tr>\n",
              "      <th>240</th>\n",
              "      <td>Frappuccino® Blended Crème</td>\n",
              "      <td>Soymilk</td>\n",
              "      <td>180</td>\n",
              "    </tr>\n",
              "    <tr>\n",
              "      <th>241</th>\n",
              "      <td>Frappuccino® Blended Crème</td>\n",
              "      <td>Grande Nonfat Milk</td>\n",
              "      <td>240</td>\n",
              "    </tr>\n",
              "  </tbody>\n",
              "</table>\n",
              "<p>242 rows × 3 columns</p>\n",
              "</div>"
            ],
            "text/plain": [
              "              Beverage_category       Beverage_prep  Calories\n",
              "0                        Coffee               Short         3\n",
              "1                        Coffee                Tall         4\n",
              "2                        Coffee              Grande         5\n",
              "3                        Coffee               Venti         5\n",
              "4       Classic Espresso Drinks   Short Nonfat Milk        70\n",
              "..                          ...                 ...       ...\n",
              "237  Frappuccino® Blended Crème             Soymilk       320\n",
              "238  Frappuccino® Blended Crème    Tall Nonfat Milk       170\n",
              "239  Frappuccino® Blended Crème          Whole Milk       200\n",
              "240  Frappuccino® Blended Crème             Soymilk       180\n",
              "241  Frappuccino® Blended Crème  Grande Nonfat Milk       240\n",
              "\n",
              "[242 rows x 3 columns]"
            ]
          },
          "metadata": {
            "tags": []
          },
          "execution_count": 49
        }
      ]
    },
    {
      "cell_type": "code",
      "metadata": {
        "id": "h6jAXvfloMZm"
      },
      "source": [
        "#Select the Beverage Category and Beverage Prep columns, and save it to a new object: bev_info\n",
        "\n",
        "bev_info = data_subset[['Beverage_category', 'Beverage_prep']]\n",
        "\n"
      ],
      "execution_count": null,
      "outputs": []
    },
    {
      "cell_type": "code",
      "metadata": {
        "id": "R70dBw4Unaqj"
      },
      "source": [
        "#Select the Beverage and the calories from data_subset, and save the result to a new object: bev_nutrition\n",
        "\n",
        "\n"
      ],
      "execution_count": null,
      "outputs": []
    },
    {
      "cell_type": "code",
      "metadata": {
        "colab": {
          "base_uri": "https://localhost:8080/"
        },
        "id": "YF1vftKmsLlM",
        "outputId": "5bd7b1ab-2cfa-4d3c-c5f9-a790a85aabbc"
      },
      "source": [
        "list(data_subset.columns)"
      ],
      "execution_count": null,
      "outputs": [
        {
          "output_type": "execute_result",
          "data": {
            "text/plain": [
              "['Beverage_category', 'Beverage_prep', 'Calories']"
            ]
          },
          "metadata": {
            "tags": []
          },
          "execution_count": 52
        }
      ]
    },
    {
      "cell_type": "code",
      "metadata": {
        "id": "cEKt0r2ApJoh"
      },
      "source": [
        "#What happened to our data_subset object? is it empty?\n",
        "\n",
        "arr = ['Beverage_category', 'Calories']\n"
      ],
      "execution_count": null,
      "outputs": []
    },
    {
      "cell_type": "code",
      "metadata": {
        "id": "Gdv5JiXApPlp"
      },
      "source": [
        "#What about our original df object?\n",
        "\n"
      ],
      "execution_count": null,
      "outputs": []
    }
  ]
}